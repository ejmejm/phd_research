{
 "cells": [
  {
   "cell_type": "code",
   "execution_count": 16,
   "metadata": {},
   "outputs": [],
   "source": [
    "from collections import defaultdict\n",
    "import sys\n",
    "from typing import Dict, Optional\n",
    "sys.path.append('../')\n",
    "\n",
    "from hl_gauss_pytorch import HLGaussLoss, HLGaussLayer\n",
    "import matplotlib.pyplot as plt\n",
    "import numpy as np\n",
    "import pandas as pd\n",
    "from scipy import stats\n",
    "import seaborn as sns\n",
    "import torch\n",
    "from torch import nn\n",
    "from torch.nn import functional as F\n",
    "from tqdm import tqdm\n",
    "\n",
    "from idbd import IDBD\n",
    "from adam import Adam\n",
    "\n",
    "%matplotlib inline"
   ]
  },
  {
   "cell_type": "code",
   "execution_count": 23,
   "metadata": {},
   "outputs": [],
   "source": [
    "class EnsembleIDBD(IDBD):\n",
    "    \"\"\"A version of IDBD that treats each feature as an individual predictor.\"\"\"\n",
    "    \n",
    "    def __init__(self, *args, **kwargs):\n",
    "        super().__init__(*args, **kwargs)\n",
    "        assert self.version == 'squared_inputs', \"Only squared_inputs works for EnsembleIDBD\"\n",
    "            \n",
    "    @torch.no_grad()\n",
    "    def step(\n",
    "        self,\n",
    "        losses: torch.Tensor,\n",
    "        predictions: torch.Tensor,\n",
    "        param_inputs: Dict[torch.nn.parameter.Parameter, torch.Tensor],\n",
    "        closure: Optional[callable] = None,\n",
    "    ) -> Optional[float]:\n",
    "        \"\"\"Performs a single optimization step.\n",
    "        \n",
    "        Args:\n",
    "            loss: Loss tensor of shape ()\n",
    "            predictions: Predictions tensor of shape (batch_size, n_classes)\n",
    "            param_inputs: Dictionary mapping linear layer weight parameters to their inputs\n",
    "        \"\"\"\n",
    "        assert losses.shape == predictions.shape\n",
    "        \n",
    "        with torch.enable_grad():\n",
    "            loss = losses.sum()\n",
    "            loss.backward()\n",
    "\n",
    "        param_updates = []\n",
    "        for group in self.param_groups:\n",
    "            meta_lr = group['meta_lr']\n",
    "            tau = group['tau']\n",
    "            \n",
    "            for p in group['params']:\n",
    "                if p.grad is None:\n",
    "                    continue\n",
    "                \n",
    "                grad = p.grad\n",
    "                \n",
    "                if p in param_inputs:\n",
    "                    assert len(param_inputs[p].shape) == 1, \"Inputs must be 1D tensors\"\n",
    "                    inputs = param_inputs[p].unsqueeze(0)\n",
    "                elif len(grad.shape) == 1:\n",
    "                    inputs = torch.ones_like(grad)\n",
    "                else:\n",
    "                    raise ValueError(f\"Parameter {p} not found in activations dictionary.\")\n",
    "                \n",
    "                # Get state variables\n",
    "                state = self.state[p]\n",
    "                beta = state['beta']\n",
    "                h = state['h']\n",
    "                if self.autostep:\n",
    "                    v = state['v']\n",
    "                \n",
    "                ### Update state variables ###\n",
    "                \n",
    "                squared_inputs = inputs.pow(2)\n",
    "                \n",
    "                # Calculate and update step-size (learning rate / alpha)\n",
    "                if self.autostep:\n",
    "                    alpha = torch.exp(state['beta'])\n",
    "                    v = torch.max(\n",
    "                        torch.abs(grad * h),\n",
    "                        v + 1.0 / tau * alpha * squared_inputs * (torch.abs(grad * h) - v),\n",
    "                    )\n",
    "                    new_alpha = alpha * torch.exp(meta_lr * grad * h / v)\n",
    "                    alpha = torch.where(\n",
    "                        v != 0,\n",
    "                        new_alpha,\n",
    "                        alpha,\n",
    "                    )\n",
    "                    \n",
    "                    # Normalize the step-size\n",
    "                    effective_step_size = torch.clamp(alpha * squared_inputs, min=1.0)\n",
    "                    alpha /= effective_step_size\n",
    "                    state['beta'] = torch.log(alpha)\n",
    "                else:\n",
    "                    beta.add_(meta_lr * grad * h)\n",
    "                    state['beta'] = beta\n",
    "                    alpha = torch.exp(beta)\n",
    "                \n",
    "                # Queue paramter update\n",
    "                weight_decay_term = self.weight_decay * p.data if self.weight_decay != 0 else 0\n",
    "                param_update = -alpha * (grad + weight_decay_term)\n",
    "                param_updates.append((p, param_update))\n",
    "                \n",
    "                # Update h (gradient trace)\n",
    "                state['h'] = h * (1 - alpha * squared_inputs).clamp(min=0) + alpha * grad\n",
    "                \n",
    "        for p, param_update in param_updates:\n",
    "            p.add_(param_update)\n",
    "\n",
    "        return loss"
   ]
  },
  {
   "cell_type": "code",
   "execution_count": 4,
   "metadata": {},
   "outputs": [],
   "source": [
    "def train_linear_model(\n",
    "    n_inputs, \n",
    "    noise_strength,\n",
    "    max_steps = 400000,\n",
    "    target_rtol = 0.05,\n",
    "    target_atol = 0.00001,\n",
    "    meta_lr = 0.01,\n",
    "    init_lr = 0.01,\n",
    "    seed = 0,\n",
    "):\n",
    "    \"\"\"Run an experiment with a normal linear model.\"\"\"\n",
    "    torch.manual_seed(seed)\n",
    "    \n",
    "    ### Prepare model and optimizer ###\n",
    "    \n",
    "    true_weights = torch.randn(1, n_inputs)\n",
    "    model = torch.nn.Linear(n_inputs, 1, bias=False)\n",
    "    torch.nn.init.zeros_(model.weight)\n",
    "\n",
    "    optimizer = IDBD(model.parameters(), meta_lr=meta_lr, init_lr=init_lr, autostep=True)\n",
    "\n",
    "    ### Create inputs and targets ###\n",
    "\n",
    "    true_inputs = torch.randint(0, 2, (max_steps, n_inputs,), dtype=torch.float)\n",
    "    noisy_inputs = true_inputs + torch.randn(max_steps, n_inputs) * noise_strength\n",
    "    targets = true_inputs @ true_weights.T\n",
    "\n",
    "    losses = []\n",
    "    time_to_val = torch.inf * torch.ones(n_inputs, dtype=torch.float)\n",
    "    \n",
    "    for i, (input_val, target_val) in enumerate(zip(noisy_inputs, targets)):\n",
    "        \n",
    "        ### Train the model on a sample ###\n",
    "        \n",
    "        y_pred = model(input_val)\n",
    "        loss = 0.5 * torch.nn.functional.mse_loss(y_pred, target_val)\n",
    "        losses.append(loss.item())\n",
    "\n",
    "        param_inputs = {model.weight: input_val}\n",
    "        optimizer.zero_grad()\n",
    "        optimizer.step(loss, y_pred, param_inputs)\n",
    "        \n",
    "        ### Check which weights have reached their ideal value ###\n",
    "        \n",
    "        with torch.no_grad():\n",
    "            # Find the weights that are close\n",
    "            model_weights = model.weight.data[0]\n",
    "            weights_close = torch.isclose(true_weights[0], model_weights, rtol=target_rtol, atol=target_atol)\n",
    "            new_time_to_val = torch.minimum(torch.full_like(time_to_val, i), time_to_val)\n",
    "            time_to_val = torch.where(weights_close, new_time_to_val, time_to_val) # torch.inf)\n",
    "            \n",
    "            not_close_rtol = target_rtol * 2\n",
    "            weights_not_close = ~torch.isclose(true_weights[0], model_weights, rtol=not_close_rtol, atol=target_atol)\n",
    "            time_to_val = torch.where(weights_not_close, torch.inf, time_to_val)\n",
    "        \n",
    "            if not torch.isinf(time_to_val).any():\n",
    "                break\n",
    "    \n",
    "    return {\n",
    "        'loss': losses,\n",
    "        'time_to_val': time_to_val,\n",
    "    }"
   ]
  },
  {
   "cell_type": "code",
   "execution_count": 130,
   "metadata": {},
   "outputs": [
    {
     "name": "stdout",
     "output_type": "stream",
     "text": [
      "tensor(1166.)\n"
     ]
    },
    {
     "data": {
      "image/png": "[encoded data removed]",
      "text/plain": [
       "<Figure size 640x480 with 1 Axes>"
      ]
     },
     "metadata": {},
     "output_type": "display_data"
    }
   ],
   "source": [
    "results = train_linear_model(100, 0.0, target_rtol=0.05, target_atol=0.0001, init_lr=0.01, max_steps=10000)\n",
    "losses = results['loss']\n",
    "time_to_val = results['time_to_val']\n",
    "plt.plot(losses)\n",
    "plt.ylim(0, 5)\n",
    "print(time_to_val.median())"
   ]
  },
  {
   "cell_type": "code",
   "execution_count": 5,
   "metadata": {},
   "outputs": [],
   "source": [
    "def train_dupe_feature_linear_model(\n",
    "    n_inputs, \n",
    "    noise_strength,\n",
    "    max_steps = 400000,\n",
    "    target_rtol = 0.05,\n",
    "    target_atol = 0.00001,\n",
    "    meta_lr = 0.01,\n",
    "    init_lr = 0.01,\n",
    "    seed = 0,\n",
    "):\n",
    "    \"\"\"Run an experiment with a linear model that has duplicate noisy and non-noisy features.\"\"\"\n",
    "    torch.manual_seed(seed)\n",
    "    \n",
    "    ### Prepare model and optimizer ###\n",
    "    \n",
    "    true_weights = torch.randn(1, n_inputs)\n",
    "    model = torch.nn.Linear(n_inputs * 2, 1, bias=False)\n",
    "    torch.nn.init.zeros_(model.weight)\n",
    "    \n",
    "    # Init noisy input weights as true values\n",
    "    with torch.no_grad():\n",
    "        model.weight.data[:, :n_inputs] = true_weights\n",
    "\n",
    "    optimizer = IDBD(model.parameters(), meta_lr=meta_lr, init_lr=init_lr, autostep=True)\n",
    "\n",
    "    ### Create inputs and targets ###\n",
    "\n",
    "    true_inputs = torch.randint(0, 2, (max_steps, n_inputs,), dtype=torch.float)\n",
    "    noisy_inputs = true_inputs + torch.randn(max_steps, n_inputs) * noise_strength\n",
    "    full_inputs = torch.cat([noisy_inputs, true_inputs], dim=1)\n",
    "    targets = true_inputs @ true_weights.T\n",
    "\n",
    "    losses = []\n",
    "    time_to_val = torch.inf * torch.ones(n_inputs, dtype=torch.float)\n",
    "    time_to_pass = torch.inf * torch.ones(n_inputs, dtype=torch.float)\n",
    "    \n",
    "    for i, (input_val, target_val) in enumerate(zip(full_inputs, targets)):\n",
    "        \n",
    "        ### Train the model on a sample ###\n",
    "        \n",
    "        y_pred = model(input_val)\n",
    "        loss = 0.5 * torch.nn.functional.mse_loss(y_pred, target_val)\n",
    "        losses.append(loss.item())\n",
    "\n",
    "        param_inputs = {model.weight: input_val}\n",
    "        optimizer.zero_grad()\n",
    "        optimizer.step(loss, y_pred, param_inputs)\n",
    "        \n",
    "        ### Check which weights have reached their ideal value ###\n",
    "        \n",
    "        with torch.no_grad():\n",
    "            # Find the weights that are close\n",
    "            new_weights = model.weight.data[0, n_inputs:]\n",
    "            weights_close = torch.isclose(true_weights[0], new_weights, rtol=target_rtol, atol=target_atol)\n",
    "            new_time_to_val = torch.minimum(torch.full_like(time_to_val, i), time_to_val)\n",
    "            time_to_val = torch.where(weights_close, new_time_to_val, time_to_val) # torch.inf)\n",
    "            \n",
    "            not_close_rtol = target_rtol * 2\n",
    "            weights_not_close = ~torch.isclose(true_weights[0], new_weights, rtol=not_close_rtol, atol=target_atol)\n",
    "            time_to_val = torch.where(weights_not_close, torch.inf, time_to_val)\n",
    "        \n",
    "            if not torch.isinf(time_to_val).any():\n",
    "                break\n",
    "            \n",
    "        ### Check which weights have surpassed their counterparts ###\n",
    "        \n",
    "        with torch.no_grad():\n",
    "            orig_weights = model.weight.data[0, :n_inputs]\n",
    "            new_weights = model.weight.data[0, n_inputs:]\n",
    "            \n",
    "            weight_surpassed = torch.abs(new_weights) > torch.abs(orig_weights)\n",
    "            new_time_to_pass = torch.minimum(torch.full_like(time_to_pass, i), time_to_pass)\n",
    "            time_to_pass = torch.where(weight_surpassed, new_time_to_pass, torch.inf)\n",
    "    \n",
    "    return {\n",
    "        'loss': losses,\n",
    "        'time_to_val': time_to_val,\n",
    "        'time_to_pass': time_to_pass,\n",
    "    }"
   ]
  },
  {
   "cell_type": "code",
   "execution_count": 143,
   "metadata": {},
   "outputs": [
    {
     "name": "stdout",
     "output_type": "stream",
     "text": [
      "tensor(5609.) tensor(1282.)\n"
     ]
    },
    {
     "data": {
      "image/png": "[encoded data removed]",
      "text/plain": [
       "<Figure size 640x480 with 1 Axes>"
      ]
     },
     "metadata": {},
     "output_type": "display_data"
    }
   ],
   "source": [
    "results = train_dupe_feature_linear_model(100, 0.5, target_rtol=0.05, target_atol=0.0001, init_lr=0.01, max_steps=30000)\n",
    "plt.plot(results['loss'])\n",
    "plt.ylim(0, 5)\n",
    "print(results['time_to_val'].median(), results['time_to_pass'].median())"
   ]
  },
  {
   "cell_type": "code",
   "execution_count": 154,
   "metadata": {},
   "outputs": [],
   "source": [
    "def train_individual_utilities_linear_model(\n",
    "    n_inputs, \n",
    "    noise_strength,\n",
    "    max_steps = 400000,\n",
    "    target_rtol = 0.05,\n",
    "    target_atol = 0.00001,\n",
    "    meta_lr = 0.01,\n",
    "    init_lr = 0.01,\n",
    "    seed = 0,\n",
    "):\n",
    "    \"\"\"Run an experiment with a normal linear model.\"\"\"\n",
    "    torch.manual_seed(seed)\n",
    "\n",
    "    decay_rate = 0.99\n",
    "    \n",
    "    ### Prepare model and optimizer ###\n",
    "    \n",
    "    true_weights = torch.randn(1, n_inputs)\n",
    "    model = torch.nn.Linear(n_inputs, 1, bias=False)\n",
    "    torch.nn.init.zeros_(model.weight)\n",
    "    \n",
    "    utility_model = torch.nn.Linear(n_inputs, 1, bias=False)\n",
    "    utility_bias = torch.nn.Parameter(torch.zeros(n_inputs, dtype=torch.float))\n",
    "    torch.nn.init.zeros_(utility_model.weight)\n",
    "    \n",
    "    optimizer = IDBD(model.parameters(), meta_lr=meta_lr, init_lr=init_lr, autostep=True)\n",
    "    # utility_optimizer = EnsembleIDBD(utility_model.parameters(), meta_lr=meta_lr, init_lr=init_lr, autostep=True)\n",
    "    utility_optimizer = torch.optim.Adam(list(utility_model.parameters()) + [utility_bias], lr=init_lr)\n",
    "\n",
    "    ### Create inputs and targets ###\n",
    "\n",
    "    true_inputs = torch.randint(0, 2, (max_steps, n_inputs,), dtype=torch.float)\n",
    "    noisy_inputs = true_inputs + torch.randn(max_steps, n_inputs) * noise_strength\n",
    "    targets = true_inputs @ true_weights.T\n",
    "\n",
    "    losses = []\n",
    "    time_to_val = torch.inf * torch.ones(n_inputs, dtype=torch.float)\n",
    "    target_mean = 0.0\n",
    "    target_var = 0.0\n",
    "    input_mean = 0.0\n",
    "    input_var = 0.0\n",
    "    \n",
    "    for i, (input_val, target_val) in enumerate(zip(noisy_inputs, targets)):\n",
    "        \n",
    "        ### Train the model on a sample ###\n",
    "        \n",
    "        y_pred = model(input_val)\n",
    "        loss = 0.5 * torch.nn.functional.mse_loss(y_pred, target_val)\n",
    "        losses.append(loss.item())\n",
    "\n",
    "        param_inputs = {model.weight: input_val}\n",
    "        optimizer.zero_grad()\n",
    "        optimizer.step(loss, y_pred, param_inputs)\n",
    "\n",
    "        ### Standardize the inputs and targets ###\n",
    "\n",
    "        bias_correction_term = 1.0 / (1.0 - decay_rate ** (i + 1))\n",
    "\n",
    "        target_mean = target_mean * decay_rate + target_val * (1 - decay_rate)\n",
    "        bias_correctted_target_mean = target_mean * bias_correction_term\n",
    "        centered_target = target_val - bias_correctted_target_mean\n",
    "        \n",
    "        input_mean = input_mean * decay_rate + input_val * (1 - decay_rate)\n",
    "        bias_correctted_input_mean = input_mean * bias_correction_term\n",
    "        centered_input = input_val - bias_correctted_input_mean\n",
    "        \n",
    "        target_var = target_var * decay_rate + centered_target ** 2 * (1 - decay_rate)\n",
    "        bias_correctted_target_var = target_var * bias_correction_term\n",
    "        standardized_target = torch.where(\n",
    "            bias_correctted_target_var > 0,\n",
    "            centered_target / torch.sqrt(bias_correctted_target_var),\n",
    "            torch.zeros_like(centered_target),\n",
    "        )\n",
    "        \n",
    "        input_var = input_var * decay_rate + centered_input ** 2 * (1 - decay_rate)\n",
    "        bias_correctted_input_var = input_var * bias_correction_term\n",
    "        standardized_input = torch.where(\n",
    "            bias_correctted_input_var > 0,\n",
    "            centered_input / torch.sqrt(bias_correctted_input_var),\n",
    "            torch.zeros_like(centered_input),\n",
    "        )\n",
    "        \n",
    "        ### Train the utility model ###\n",
    "        \n",
    "        individual_preds = utility_model.weight.squeeze(dim=0) * input_val\n",
    "        individual_preds += utility_bias\n",
    "        utility_losses = (individual_preds - torch.full_like(individual_preds, centered_target.item())) ** 2\n",
    "        utility_losses = utility_losses.squeeze(dim=0)\n",
    "        utility_loss = utility_losses.sum()\n",
    "        \n",
    "        # param_inputs = {utility_model.weight: input_val}\n",
    "        # utility_optimizer.zero_grad()\n",
    "        # utility_optimizer.step(utility_losses, individual_preds, param_inputs)\n",
    "        \n",
    "        utility_optimizer.zero_grad()\n",
    "        utility_loss.backward()\n",
    "        utility_optimizer.step()\n",
    "        \n",
    "        ### Check which weights have reached their ideal value ###\n",
    "        \n",
    "        with torch.no_grad():\n",
    "            # Find the weights that are close\n",
    "            utility_weights = utility_model.weight.data[0]\n",
    "            weights_close = torch.isclose(true_weights[0], utility_weights, rtol=target_rtol, atol=target_atol)\n",
    "            new_time_to_val = torch.minimum(torch.full_like(time_to_val, i), time_to_val)\n",
    "            time_to_val = torch.where(weights_close, new_time_to_val, time_to_val) # torch.inf)\n",
    "            \n",
    "            not_close_rtol = target_rtol * 2\n",
    "            weights_not_close = ~torch.isclose(true_weights[0], utility_weights, rtol=not_close_rtol, atol=target_atol)\n",
    "            time_to_val = torch.where(weights_not_close, torch.inf, time_to_val)\n",
    "        \n",
    "            if not torch.isinf(time_to_val).any():\n",
    "                break\n",
    "    \n",
    "    return {\n",
    "        'loss': losses,\n",
    "        'time_to_val': time_to_val,\n",
    "        'true_weights': true_weights,\n",
    "        'model_weights': model.weight.data[0],\n",
    "        'utility_weights': utility_model.weight.data[0],\n",
    "    }"
   ]
  },
  {
   "cell_type": "code",
   "execution_count": 161,
   "metadata": {},
   "outputs": [
    {
     "name": "stdout",
     "output_type": "stream",
     "text": [
      "tensor(1528.)\n",
      "tensor([[ 1.5410, -0.2934, -2.1788]])\n",
      "tensor([ 1.5410, -0.2934, -2.1788])\n",
      "tensor([ 1.4526, -0.2836, -2.2570])\n"
     ]
    },
    {
     "data": {
      "image/png": "[encoded data removed]",
      "text/plain": [
       "<Figure size 640x480 with 1 Axes>"
      ]
     },
     "metadata": {},
     "output_type": "display_data"
    }
   ],
   "source": [
    "results = train_individual_utilities_linear_model(\n",
    "    3, 0.0, target_rtol=0.05, target_atol=0.0001, init_lr=0.01, max_steps=6000)\n",
    "losses = results['loss']\n",
    "time_to_val = results['time_to_val']\n",
    "plt.plot(losses)\n",
    "plt.ylim(0, 5)\n",
    "print(time_to_val.median())\n",
    "print(results['true_weights'])\n",
    "print(results['model_weights'])\n",
    "print(results['utility_weights'])"
   ]
  },
  {
   "cell_type": "code",
   "execution_count": 131,
   "metadata": {},
   "outputs": [
    {
     "data": {
      "text/plain": [
       "tensor([1528., 1741., 1301.])"
      ]
     },
     "execution_count": 131,
     "metadata": {},
     "output_type": "execute_result"
    }
   ],
   "source": [
    "time_to_val"
   ]
  },
  {
   "cell_type": "code",
   "execution_count": 45,
   "metadata": {},
   "outputs": [
    {
     "data": {
      "text/plain": [
       "tensor([131518.,     inf,     inf,     inf, 182526.,     inf,     inf,  46826.,\n",
       "            inf,  50369.,     inf,     inf,     inf, 302198.,     inf,     inf,\n",
       "         61191.,  35893.,     inf,  38969.,     inf, 184860.,     inf, 211738.,\n",
       "            inf, 171288.,     inf,     inf,  93861.,  79141.,     inf,     inf,\n",
       "            inf,     inf,     inf,     inf,     inf,     inf,     inf,     inf,\n",
       "            inf, 184144.,  68227.,     inf,     inf,  78979.,  50628.,  15806.,\n",
       "            inf,     inf,     inf,     inf,     inf,     inf,     inf,     inf,\n",
       "            inf,     inf, 159403.,  16344.,  34808., 155145.,  19051.,     inf,\n",
       "            inf, 107314.,  80977.,  95797.,  44670.,  45470., 232226.,     inf,\n",
       "        133893.,     inf,     inf,     inf, 143920.,     inf,     inf, 161839.,\n",
       "            inf, 208394.,     inf,     inf, 152816.,  41090.,     inf,     inf,\n",
       "            inf, 149102.,     inf,     inf,  51280.,  65635.,     inf,     inf,\n",
       "            inf, 117668.,     inf,     inf])"
      ]
     },
     "execution_count": 45,
     "metadata": {},
     "output_type": "execute_result"
    }
   ],
   "source": [
    "time_to_val"
   ]
  },
  {
   "cell_type": "code",
   "execution_count": 144,
   "metadata": {},
   "outputs": [
    {
     "data": {
      "text/plain": [
       "(tensor([ 4959.,  4389.,  8509.,  5198.,  5115.,  2531.,  9384.,  3177.,  6900.,\n",
       "          4346.,  5648.,  6381.,  6190.,  4448.,  5757.,  8453.,  3430.,  3963.,\n",
       "          7245.,  7402.,  5296.,  4684.,  6647.,  5227.,  6719.,  7567.,  9484.,\n",
       "         10337.,  4934.,  2743.,  6129.,  5565.,  2730.,  7935.,  7034.,  5966.,\n",
       "          7078., 10709.,  5296.,  4906., 11807.,  4175.,  8002., 13009.,  5832.,\n",
       "          3968.,  4217.,  2703.,  6672.,  3473.,  3597.,  8930.,  8899.,  7622.,\n",
       "          3788.,  7367.,  5035.,  4058.,  4365.,  2925.,  4301.,  4908.,  4876.,\n",
       "          6243.,  6448.,  6547.,  5944.,  5077.,  3889.,  2963.,  5159.,  3790.,\n",
       "          4899.,  4111.,  7401.,  5690.,  3681.,  6170.,  9187.,  4660.,  9679.,\n",
       "          6399.,  5609., 14169.,  3396.,  3192.,  8135.,  9444.,  8564.,  4941.,\n",
       "          8472.,  4345.,  4538.,  6952.,  3302.,  3941.,  9446.,  6991.,  6975.,\n",
       "         10146.]),\n",
       " tensor([ 1129.,   892.,  2540.,  1187.,   846.,   337.,  2430.,   826.,  1875.,\n",
       "           844.,  1540.,   716.,  3185.,   584.,   601.,  4404.,  1294.,  1711.,\n",
       "          2738.,  1496.,  1009.,   785.,  2001.,  1098.,   616.,  1789.,  5264.,\n",
       "          4578.,   840.,   634.,  2726.,  2749.,  1025.,  2555.,  2329.,   912.,\n",
       "          2015.,   640.,   892.,  1579.,  1277.,   530.,   978.,  2750.,  1143.,\n",
       "          1601.,  2022.,  1215.,  1929.,  1184.,  1224.,  5344.,  4957.,  2680.,\n",
       "          1536.,  2640.,  1977.,  1282.,  1106.,  1081.,   457.,  1304.,  1115.,\n",
       "          1539.,  1629.,  1667.,   500.,  1233.,  1076.,   999.,  1957.,   641.,\n",
       "          1094.,  1362.,  1411.,  1121.,   850.,  1439.,  5735.,  1279.,  5480.,\n",
       "           531.,  1891., 13163.,   847.,  1076.,  4605.,  1444.,  3918.,   539.,\n",
       "          1551.,  1141.,   640.,   603.,   511.,   902.,  2985.,  1912.,  3133.,\n",
       "          2646.]))"
      ]
     },
     "execution_count": 144,
     "metadata": {},
     "output_type": "execute_result"
    }
   ],
   "source": [
    "results['time_to_val'], results['time_to_pass']"
   ]
  },
  {
   "cell_type": "code",
   "execution_count": 88,
   "metadata": {},
   "outputs": [
    {
     "data": {
      "text/plain": [
       "tensor(734.)"
      ]
     },
     "execution_count": 88,
     "metadata": {},
     "output_type": "execute_result"
    }
   ],
   "source": [
    "time_to_val.median()"
   ]
  },
  {
   "cell_type": "code",
   "execution_count": null,
   "metadata": {},
   "outputs": [],
   "source": []
  },
  {
   "cell_type": "code",
   "execution_count": null,
   "metadata": {},
   "outputs": [],
   "source": []
  },
  {
   "cell_type": "code",
   "execution_count": null,
   "metadata": {},
   "outputs": [],
   "source": []
  },
  {
   "cell_type": "code",
   "execution_count": null,
   "metadata": {},
   "outputs": [],
   "source": []
  }
 ],
 "metadata": {
  "kernelspec": {
   "display_name": "jax",
   "language": "python",
   "name": "python3"
  },
  "language_info": {
   "codemirror_mode": {
    "name": "ipython",
    "version": 3
   },
   "file_extension": ".py",
   "mimetype": "text/x-python",
   "name": "python",
   "nbconvert_exporter": "python",
   "pygments_lexer": "ipython3",
   "version": "3.10.14"
  }
 },
 "nbformat": 4,
 "nbformat_minor": 2
}
