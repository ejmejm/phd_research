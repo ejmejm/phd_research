{
 "cells": [
  {
   "cell_type": "code",
   "execution_count": 9,
   "id": "0d6a57f5",
   "metadata": {},
   "outputs": [],
   "source": [
    "import matplotlib.pyplot as plt\n",
    "import numpy as np\n",
    "import torch\n",
    "from tqdm import tqdm\n",
    "\n",
    "%matplotlib inline"
   ]
  },
  {
   "cell_type": "code",
   "execution_count": 2,
   "id": "ae846b32",
   "metadata": {},
   "outputs": [],
   "source": [
    "# print([np.random.binomial(n=80, p=0.5, size=(int(20 * 0.005 * 1e6),)).max() for _ in range(5)])\n",
    "# print([np.random.binomial(n=80, p=0.5, size=(int(1000 * 0.005 * 1e6),)).max() for _ in range(5)])\n",
    "# print([np.random.binomial(n=80, p=0.5, size=(int(20_000 * 0.005 * 1e6),)).max() for _ in range(5)])"
   ]
  },
  {
   "cell_type": "code",
   "execution_count": 3,
   "id": "e618ffd2",
   "metadata": {},
   "outputs": [],
   "source": [
    "n_train_steps = int(1e6)\n",
    "replacement_rate = 0.005\n",
    "device = 'cuda' # 'cpu'\n",
    "\n",
    "n_inputs = 80\n",
    "n_target_features = 20\n",
    "n_learn_features = 20_480\n",
    "n_original_learn_features = n_learn_features\n",
    "n_samples = 100_000\n",
    "n_runs = 5\n",
    "\n",
    "assert n_learn_features % n_target_features == 0\n",
    "\n",
    "# # Reinitialize input weights based on an optimistic estnimation of what is possible after n_train_steps\n",
    "# n_features_tested = int(n_train_steps * replacement_rate * n_original_learn_features)\n",
    "\n",
    "# # Sample from binomial distribution with n=80 trials and p=0.5\n",
    "# possible_hits = np.random.binomial(n=n_inputs, p=0.5, size=(n_features_tested,))\n",
    "\n",
    "# # Use the results to set the learned input weights to roughly the best possible features that\n",
    "# # were likely to have been found after n_train_steps\n",
    "# max_hits = possible_hits.max()\n",
    "max_hits = 65\n",
    "n_misses = n_inputs - max_hits"
   ]
  },
  {
   "cell_type": "code",
   "execution_count": 12,
   "id": "9f4b4fb4",
   "metadata": {},
   "outputs": [],
   "source": [
    "def run_single_trial(\n",
    "    n_inputs,\n",
    "    n_target_features,\n",
    "    n_learn_features,\n",
    "    n_samples,\n",
    "    n_misses,\n",
    "    device,\n",
    "    seed = None,\n",
    "    normalize_targets = False,\n",
    "):\n",
    "    if seed is not None:\n",
    "        np.random.seed(seed)\n",
    "        torch.manual_seed(seed)\n",
    "    \n",
    "    # Create target weights\n",
    "    target_w1 = torch.tensor(\n",
    "        np.random.choice([-1, 1], size=(n_target_features, n_inputs)),\n",
    "        device = device,\n",
    "        dtype = torch.float32,\n",
    "    )\n",
    "    target_w2 = torch.tensor(\n",
    "        np.random.uniform(\n",
    "            -np.sqrt(3/n_target_features), np.sqrt(3/n_target_features),\n",
    "            size = (1, n_target_features),\n",
    "        ),\n",
    "        device = device,\n",
    "        dtype = torch.float32,\n",
    "    )\n",
    "\n",
    "    # Create input data\n",
    "    inputs = torch.tensor(np.random.normal(size=(n_samples, n_inputs)), device=device, dtype=torch.float32)\n",
    "\n",
    "    # Create learned weights initialized differently\n",
    "    learned_w1 = torch.tensor(\n",
    "        np.random.choice([-1, 1], size=(n_learn_features, n_inputs)),\n",
    "        device = device,\n",
    "        dtype = torch.float32,\n",
    "    )\n",
    "    learned_w2 = torch.tensor(\n",
    "        np.random.uniform(\n",
    "            -np.sqrt(3/n_learn_features), np.sqrt(3/n_learn_features),\n",
    "            size = (1, n_learn_features),\n",
    "        ),\n",
    "        device = device,\n",
    "        dtype = torch.float32,\n",
    "    )\n",
    "\n",
    "    n_weight_multiple = n_target_features // n_learn_features\n",
    "    for i in range(n_weight_multiple):\n",
    "        learned_w1[i*n_target_features:(i+1)*n_target_features, :] = \\\n",
    "            target_w1.clone()\n",
    "        miss_idxs = torch.tensor(np.random.choice(n_inputs, size=n_misses, replace=False), device=device)\n",
    "        learned_w1[i*n_target_features:(i+1)*n_target_features, miss_idxs] = \\\n",
    "            -learned_w1[i*n_target_features:(i+1)*n_target_features, miss_idxs]\n",
    "\n",
    "    # Calculate targets\n",
    "    targets = target_w2 @ ((target_w1 @ inputs.T) > 0).float()\n",
    "    targets = targets.squeeze()\n",
    "    \n",
    "    if normalize_targets:\n",
    "        targets -= targets.mean()\n",
    "        targets /= targets.std()\n",
    "\n",
    "    # Split into train and test sets\n",
    "    train_inputs, train_targets = inputs[:n_samples//2], targets[:n_samples//2]\n",
    "    test_inputs, test_targets = inputs[n_samples//2:], targets[n_samples//2:]\n",
    "\n",
    "    # Get hidden layer activations\n",
    "    train_hidden = ((learned_w1 @ train_inputs.T) > 0).float()\n",
    "    test_hidden = ((learned_w1 @ test_inputs.T) > 0).float()\n",
    "\n",
    "    # Initialize learning rate and number of epochs\n",
    "    lr = 0.1 / n_learn_features**0.75\n",
    "    n_epochs = 10000\n",
    "    best_mse = float('inf')\n",
    "    plateau_count = 0\n",
    "    \n",
    "    train_losses = []\n",
    "    eval_losses = []\n",
    "\n",
    "    # Train with learning rate decay\n",
    "    for epoch in tqdm(range(n_epochs)):\n",
    "        # Compute predictions and error\n",
    "        train_preds = (learned_w2 @ train_hidden).squeeze()\n",
    "        error = train_preds - train_targets\n",
    "        current_mse = torch.mean(error ** 2).item()\n",
    "        # train_losses.append(current_mse)\n",
    "        \n",
    "        # Update weights using gradient descent\n",
    "        grad = (error @ train_hidden.T) / error.shape[0]\n",
    "        learned_w2 -= lr * grad.unsqueeze(0)\n",
    "        \n",
    "        if epoch % 200 == 0:\n",
    "            # Compute eval loss\n",
    "            test_preds = learned_w2 @ test_hidden\n",
    "            test_mse = torch.mean((test_preds - test_targets) ** 2).item()\n",
    "            eval_losses.append(test_mse)\n",
    "            train_losses.append(current_mse)\n",
    "            print(f\"Epoch {epoch} | Train MSE: {current_mse:.4f} | Test MSE: {test_mse:.4f} | LR: {lr:.4f}\")\n",
    "        \n",
    "        # Decay learning rate if MSE hasn't improved\n",
    "        if current_mse >= best_mse:\n",
    "            plateau_count += 1\n",
    "            if plateau_count >= 5 and lr > 0.00001:  # After 5 epochs without improvement\n",
    "                lr *= 0.5\n",
    "                plateau_count = 0\n",
    "        else:\n",
    "            best_mse = current_mse\n",
    "            plateau_count = 0\n",
    "\n",
    "    # Final eval\n",
    "    test_preds = learned_w2 @ test_hidden\n",
    "    test_mse = torch.mean((test_preds - test_targets) ** 2).item()\n",
    "    eval_losses.append(test_mse)\n",
    "    train_losses.append(current_mse)\n",
    "    \n",
    "    return train_losses, eval_losses"
   ]
  },
  {
   "cell_type": "code",
   "execution_count": 13,
   "id": "c869daf5",
   "metadata": {},
   "outputs": [],
   "source": [
    "# # Run multiple trials\n",
    "# test_mses = []\n",
    "# for run in range(n_runs):\n",
    "#     test_mse = run_single_trial(n_inputs, n_target_features, n_learn_features, n_samples, n_misses, device)\n",
    "#     test_mses.append(test_mse)\n",
    "#     print(f\"Run {run + 1} Test MSE: {test_mse:.4f}\")\n",
    "\n",
    "# mean_mse = np.mean(test_mses)\n",
    "# print(f\"\\nMean Test MSE across {n_runs} runs: {mean_mse:.4f}\")\n"
   ]
  },
  {
   "cell_type": "code",
   "execution_count": 14,
   "id": "54da4b14",
   "metadata": {},
   "outputs": [],
   "source": [
    "# Is it overfitting?"
   ]
  },
  {
   "cell_type": "code",
   "execution_count": 15,
   "id": "e95df5b9",
   "metadata": {},
   "outputs": [],
   "source": [
    "# train_results_1k, eval_results_1k = run_single_trial(\n",
    "#     n_inputs, n_target_features, 1240, n_samples, n_misses, device, seed=792025, normalize_targets=False)"
   ]
  },
  {
   "cell_type": "code",
   "execution_count": 17,
   "id": "a0847e11",
   "metadata": {},
   "outputs": [
    {
     "name": "stderr",
     "output_type": "stream",
     "text": [
      "  0%|          | 1/10000 [00:09<25:43:03,  9.26s/it]"
     ]
    },
    {
     "name": "stdout",
     "output_type": "stream",
     "text": [
      "Epoch 0 | Train MSE: 0.6031 | Test MSE: 0.5362 | LR: 0.0001\n"
     ]
    },
    {
     "name": "stderr",
     "output_type": "stream",
     "text": [
      "  2%|▏         | 201/10000 [02:53<3:09:55,  1.16s/it]"
     ]
    },
    {
     "name": "stdout",
     "output_type": "stream",
     "text": [
      "Epoch 200 | Train MSE: 0.2964 | Test MSE: 0.2964 | LR: 0.0001\n"
     ]
    },
    {
     "name": "stderr",
     "output_type": "stream",
     "text": [
      "  4%|▍         | 401/10000 [05:36<3:07:23,  1.17s/it]"
     ]
    },
    {
     "name": "stdout",
     "output_type": "stream",
     "text": [
      "Epoch 400 | Train MSE: 0.2255 | Test MSE: 0.2263 | LR: 0.0001\n"
     ]
    },
    {
     "name": "stderr",
     "output_type": "stream",
     "text": [
      "  6%|▌         | 601/10000 [08:18<2:52:18,  1.10s/it]"
     ]
    },
    {
     "name": "stdout",
     "output_type": "stream",
     "text": [
      "Epoch 600 | Train MSE: 0.1982 | Test MSE: 0.1993 | LR: 0.0001\n"
     ]
    },
    {
     "name": "stderr",
     "output_type": "stream",
     "text": [
      "  8%|▊         | 801/10000 [11:02<2:58:42,  1.17s/it]"
     ]
    },
    {
     "name": "stdout",
     "output_type": "stream",
     "text": [
      "Epoch 800 | Train MSE: 0.1875 | Test MSE: 0.1887 | LR: 0.0001\n"
     ]
    },
    {
     "name": "stderr",
     "output_type": "stream",
     "text": [
      " 10%|█         | 1001/10000 [13:45<2:53:36,  1.16s/it]"
     ]
    },
    {
     "name": "stdout",
     "output_type": "stream",
     "text": [
      "Epoch 1000 | Train MSE: 0.1831 | Test MSE: 0.1844 | LR: 0.0001\n"
     ]
    },
    {
     "name": "stderr",
     "output_type": "stream",
     "text": [
      " 12%|█▏        | 1201/10000 [16:28<2:49:31,  1.16s/it]"
     ]
    },
    {
     "name": "stdout",
     "output_type": "stream",
     "text": [
      "Epoch 1200 | Train MSE: 0.1812 | Test MSE: 0.1826 | LR: 0.0001\n"
     ]
    },
    {
     "name": "stderr",
     "output_type": "stream",
     "text": [
      " 14%|█▍        | 1401/10000 [19:11<2:46:58,  1.17s/it]"
     ]
    },
    {
     "name": "stdout",
     "output_type": "stream",
     "text": [
      "Epoch 1400 | Train MSE: 0.1803 | Test MSE: 0.1818 | LR: 0.0001\n"
     ]
    },
    {
     "name": "stderr",
     "output_type": "stream",
     "text": [
      " 16%|█▌        | 1601/10000 [21:56<2:42:08,  1.16s/it]"
     ]
    },
    {
     "name": "stdout",
     "output_type": "stream",
     "text": [
      "Epoch 1600 | Train MSE: 0.1797 | Test MSE: 0.1813 | LR: 0.0001\n"
     ]
    },
    {
     "name": "stderr",
     "output_type": "stream",
     "text": [
      " 18%|█▊        | 1801/10000 [24:40<2:16:19,  1.00it/s]"
     ]
    },
    {
     "name": "stdout",
     "output_type": "stream",
     "text": [
      "Epoch 1800 | Train MSE: 0.1792 | Test MSE: 0.1810 | LR: 0.0001\n"
     ]
    },
    {
     "name": "stderr",
     "output_type": "stream",
     "text": [
      " 20%|██        | 2001/10000 [27:25<2:31:47,  1.14s/it]"
     ]
    },
    {
     "name": "stdout",
     "output_type": "stream",
     "text": [
      "Epoch 2000 | Train MSE: 0.1789 | Test MSE: 0.1808 | LR: 0.0001\n"
     ]
    },
    {
     "name": "stderr",
     "output_type": "stream",
     "text": [
      " 22%|██▏       | 2201/10000 [30:08<2:30:54,  1.16s/it]"
     ]
    },
    {
     "name": "stdout",
     "output_type": "stream",
     "text": [
      "Epoch 2200 | Train MSE: 0.1785 | Test MSE: 0.1805 | LR: 0.0001\n"
     ]
    },
    {
     "name": "stderr",
     "output_type": "stream",
     "text": [
      " 24%|██▍       | 2401/10000 [32:52<2:27:51,  1.17s/it]"
     ]
    },
    {
     "name": "stdout",
     "output_type": "stream",
     "text": [
      "Epoch 2400 | Train MSE: 0.1782 | Test MSE: 0.1803 | LR: 0.0001\n"
     ]
    },
    {
     "name": "stderr",
     "output_type": "stream",
     "text": [
      " 26%|██▌       | 2601/10000 [35:36<2:24:24,  1.17s/it]"
     ]
    },
    {
     "name": "stdout",
     "output_type": "stream",
     "text": [
      "Epoch 2600 | Train MSE: 0.1778 | Test MSE: 0.1802 | LR: 0.0001\n"
     ]
    },
    {
     "name": "stderr",
     "output_type": "stream",
     "text": [
      " 28%|██▊       | 2801/10000 [38:20<2:20:07,  1.17s/it]"
     ]
    },
    {
     "name": "stdout",
     "output_type": "stream",
     "text": [
      "Epoch 2800 | Train MSE: 0.1775 | Test MSE: 0.1800 | LR: 0.0001\n"
     ]
    },
    {
     "name": "stderr",
     "output_type": "stream",
     "text": [
      " 30%|███       | 3001/10000 [41:03<2:15:19,  1.16s/it]"
     ]
    },
    {
     "name": "stdout",
     "output_type": "stream",
     "text": [
      "Epoch 3000 | Train MSE: 0.1771 | Test MSE: 0.1798 | LR: 0.0001\n"
     ]
    },
    {
     "name": "stderr",
     "output_type": "stream",
     "text": [
      " 30%|███       | 3039/10000 [41:35<1:35:16,  1.22it/s]\n"
     ]
    },
    {
     "ename": "KeyboardInterrupt",
     "evalue": "",
     "output_type": "error",
     "traceback": [
      "\u001b[0;31m---------------------------------------------------------------------------\u001b[0m",
      "\u001b[0;31mKeyboardInterrupt\u001b[0m                         Traceback (most recent call last)",
      "Cell \u001b[0;32mIn[17], line 1\u001b[0m\n\u001b[0;32m----> 1\u001b[0m train_results_20k, eval_results_20k \u001b[38;5;241m=\u001b[39m \u001b[43mrun_single_trial\u001b[49m\u001b[43m(\u001b[49m\n\u001b[1;32m      2\u001b[0m \u001b[43m    \u001b[49m\u001b[43mn_inputs\u001b[49m\u001b[43m,\u001b[49m\u001b[43m \u001b[49m\u001b[43mn_target_features\u001b[49m\u001b[43m,\u001b[49m\u001b[43m \u001b[49m\u001b[38;5;241;43m20_480\u001b[39;49m\u001b[43m,\u001b[49m\u001b[43m \u001b[49m\u001b[43mn_samples\u001b[49m\u001b[43m,\u001b[49m\u001b[43m \u001b[49m\u001b[43mn_misses\u001b[49m\u001b[43m,\u001b[49m\u001b[43m \u001b[49m\u001b[43mdevice\u001b[49m\u001b[43m,\u001b[49m\u001b[43m \u001b[49m\u001b[43mseed\u001b[49m\u001b[38;5;241;43m=\u001b[39;49m\u001b[38;5;241;43m792025\u001b[39;49m\u001b[43m,\u001b[49m\u001b[43m \u001b[49m\u001b[43mnormalize_targets\u001b[49m\u001b[38;5;241;43m=\u001b[39;49m\u001b[38;5;28;43;01mFalse\u001b[39;49;00m\u001b[43m)\u001b[49m\n",
      "Cell \u001b[0;32mIn[12], line 86\u001b[0m, in \u001b[0;36mrun_single_trial\u001b[0;34m(n_inputs, n_target_features, n_learn_features, n_samples, n_misses, device, seed, normalize_targets)\u001b[0m\n\u001b[1;32m     84\u001b[0m train_preds \u001b[38;5;241m=\u001b[39m (learned_w2 \u001b[38;5;241m@\u001b[39m train_hidden)\u001b[38;5;241m.\u001b[39msqueeze()\n\u001b[1;32m     85\u001b[0m error \u001b[38;5;241m=\u001b[39m train_preds \u001b[38;5;241m-\u001b[39m train_targets\n\u001b[0;32m---> 86\u001b[0m current_mse \u001b[38;5;241m=\u001b[39m \u001b[43mtorch\u001b[49m\u001b[38;5;241;43m.\u001b[39;49m\u001b[43mmean\u001b[49m\u001b[43m(\u001b[49m\u001b[43merror\u001b[49m\u001b[43m \u001b[49m\u001b[38;5;241;43m*\u001b[39;49m\u001b[38;5;241;43m*\u001b[39;49m\u001b[43m \u001b[49m\u001b[38;5;241;43m2\u001b[39;49m\u001b[43m)\u001b[49m\u001b[38;5;241;43m.\u001b[39;49m\u001b[43mitem\u001b[49m\u001b[43m(\u001b[49m\u001b[43m)\u001b[49m\n\u001b[1;32m     87\u001b[0m \u001b[38;5;66;03m# train_losses.append(current_mse)\u001b[39;00m\n\u001b[1;32m     88\u001b[0m \n\u001b[1;32m     89\u001b[0m \u001b[38;5;66;03m# Update weights using gradient descent\u001b[39;00m\n\u001b[1;32m     90\u001b[0m grad \u001b[38;5;241m=\u001b[39m (error \u001b[38;5;241m@\u001b[39m train_hidden\u001b[38;5;241m.\u001b[39mT) \u001b[38;5;241m/\u001b[39m error\u001b[38;5;241m.\u001b[39mshape[\u001b[38;5;241m0\u001b[39m]\n",
      "\u001b[0;31mKeyboardInterrupt\u001b[0m: "
     ]
    }
   ],
   "source": [
    "train_results_20k, eval_results_20k = run_single_trial(\n",
    "    n_inputs, n_target_features, 20_480, n_samples, n_misses, device, seed=792025, normalize_targets=False)"
   ]
  },
  {
   "cell_type": "code",
   "execution_count": 11,
   "id": "e6fa200d",
   "metadata": {},
   "outputs": [
    {
     "data": {
      "image/png": "[encoded data removed]",
      "text/plain": [
       "<Figure size 1000x600 with 1 Axes>"
      ]
     },
     "metadata": {},
     "output_type": "display_data"
    }
   ],
   "source": [
    "import matplotlib.pyplot as plt\n",
    "\n",
    "plt.figure(figsize=(10, 6))\n",
    "plt.plot(train_results_1k, label='train_1k')\n",
    "plt.plot(eval_results_1k, label='eval_1k') \n",
    "plt.plot(train_results_20k, label='train_20k')\n",
    "plt.plot(eval_results_20k, label='eval_20k')\n",
    "plt.xlabel('Epoch')\n",
    "plt.ylabel('MSE Loss')\n",
    "plt.title('Training and Evaluation Loss')\n",
    "plt.legend()\n",
    "plt.grid(True)\n",
    "plt.show()\n"
   ]
  }
 ],
 "metadata": {
  "kernelspec": {
   "display_name": "research",
   "language": "python",
   "name": "python3"
  },
  "language_info": {
   "codemirror_mode": {
    "name": "ipython",
    "version": 3
   },
   "file_extension": ".py",
   "mimetype": "text/x-python",
   "name": "python",
   "nbconvert_exporter": "python",
   "pygments_lexer": "ipython3",
   "version": "3.10.16"
  }
 },
 "nbformat": 4,
 "nbformat_minor": 5
}
