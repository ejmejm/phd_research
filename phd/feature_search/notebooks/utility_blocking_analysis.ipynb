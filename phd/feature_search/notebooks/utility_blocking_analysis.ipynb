{
 "cells": [
  {
   "cell_type": "markdown",
   "id": "e9783263",
   "metadata": {},
   "source": [
    "Run command without distractors:\n",
    "```sh\n",
    "python scripts/utility_logging_feature_search.py \\\n",
    "    --config-name=comet_sweeps/nonlinear_geoff_ablation_v3/base_config.yaml \\\n",
    "    model.hidden_dim=5120 \\\n",
    "    task.distractor_chance=0 \\\n",
    "    train.total_steps=100_000 \\\n",
    "    train.log_freq=100 \\\n",
    "    comet_ml=True \\\n",
    "    seed=7102025\n",
    "```\n",
    "\n",
    "Run command with distractors:\n",
    "```sh\n",
    "python scripts/utility_logging_feature_search.py \\\n",
    "    --config-name=comet_sweeps/nonlinear_geoff_ablation_v3/base_config.yaml \\\n",
    "    model.hidden_dim=5120 \\\n",
    "    task.distractor_chance=0.9 \\\n",
    "    train.total_steps=1_000_000 \\\n",
    "    train.log_freq=100 \\\n",
    "    comet_ml=True \\\n",
    "    seed=7102025\n",
    "```"
   ]
  },
  {
   "cell_type": "code",
   "execution_count": null,
   "id": "ad35219b",
   "metadata": {},
   "outputs": [],
   "source": []
  },
  {
   "cell_type": "code",
   "execution_count": null,
   "id": "c2006bc4",
   "metadata": {},
   "outputs": [],
   "source": []
  }
 ],
 "metadata": {
  "language_info": {
   "name": "python"
  }
 },
 "nbformat": 4,
 "nbformat_minor": 5
}
