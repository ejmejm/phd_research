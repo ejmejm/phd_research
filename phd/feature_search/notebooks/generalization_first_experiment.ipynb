{
 "cells": [
  {
   "cell_type": "code",
   "execution_count": 1,
   "id": "6af05f7a",
   "metadata": {},
   "outputs": [
    {
     "name": "stderr",
     "output_type": "stream",
     "text": [
      "/home/edan/local_projects/phd_research/phd/feature_search/scripts/jax_full_feature_search.py:423: UserWarning: \n",
      "The version_base parameter is not specified.\n",
      "Please specify a compatability version level, or None.\n",
      "Will assume defaults for version 1.1\n",
      "  @hydra.main(config_path='../conf', config_name='full_feature_search')\n",
      "/tmp/ipykernel_52221/3794935559.py:19: UserWarning: \n",
      "The version_base parameter is not specified.\n",
      "Please specify a compatability version level, or None.\n",
      "Will assume defaults for version 1.1\n",
      "  hydra.initialize(config_path=\"../conf\")\n"
     ]
    }
   ],
   "source": [
    "import random\n",
    "\n",
    "import equinox as eqx\n",
    "import hydra\n",
    "import jax\n",
    "import jax.numpy as jnp\n",
    "import matplotlib.pyplot as plt\n",
    "from omegaconf import DictConfig, OmegaConf\n",
    "import seaborn as sns\n",
    "\n",
    "from phd.feature_search.scripts.jax_full_feature_search import train_step, train_multi_step, run_experiment, TrainState\n",
    "from phd.feature_search.jax_core.experiment_helpers import prepare_components, rng_from_string, seed_from_string\n",
    "from phd.feature_search.jax_core.models import MLP\n",
    "from phd.feature_search.jax_core.tasks.geoff import NonlinearGEOFFTask\n",
    "\n",
    "%matplotlib inline\n",
    "\n",
    "if not hydra.core.global_hydra.GlobalHydra().is_initialized():\n",
    "    hydra.initialize(config_path=\"../conf\")"
   ]
  },
  {
   "cell_type": "code",
   "execution_count": 2,
   "id": "23d3f732",
   "metadata": {},
   "outputs": [],
   "source": [
    "def prepare_experiment(cfg):\n",
    "    task, model, criterion, optimizer, repr_optimizer, cbp_tracker = \\\n",
    "        prepare_components(cfg)\n",
    "    \n",
    "    if cfg.seed is not None:\n",
    "        rng = jax.random.key(cfg.seed)\n",
    "    else:\n",
    "        rng = jax.random.key(random.randint(0, 2**31))\n",
    "\n",
    "    task_init_key = rng_from_string(rng, 'task_init_key')\n",
    "    task.weights[-1] = jax.random.uniform(\n",
    "        task_init_key,\n",
    "        task.weights[-1].shape,\n",
    "        minval = -jnp.sqrt(6 / task.weights[-1].shape[0]),\n",
    "        maxval = jnp.sqrt(6 / task.weights[-1].shape[0]),\n",
    "    )\n",
    "    model = eqx.tree_at(\n",
    "        lambda m: m.layers[-1].weight, model,\n",
    "        jnp.zeros_like(model.layers[-1].weight),\n",
    "    )\n",
    "    return task, model, criterion, optimizer, repr_optimizer, cbp_tracker, rng\n",
    "\n",
    "\n",
    "def prepare_and_run_experiment(cfg):\n",
    "    task, model, criterion, optimizer, repr_optimizer, cbp_tracker, rng = \\\n",
    "        prepare_experiment(cfg)\n",
    "    \n",
    "    jax.config.update('jax_compilation_cache_dir', cfg.jax_jit_cache_dir)\n",
    "    jax.config.update('jax_persistent_cache_min_entry_size_bytes', -1)\n",
    "    jax.config.update('jax_persistent_cache_min_compile_time_secs', 0.1)\n",
    "    jax.config.update('jax_persistent_cache_enable_xla_caches', 'xla_gpu_per_fusion_autotune_cache_dir')\n",
    "    \n",
    "    metrics = run_experiment(\n",
    "        cfg, task, model, criterion, optimizer,\n",
    "        repr_optimizer, cbp_tracker, None, rng,\n",
    "    )\n",
    "    \n",
    "    return metrics"
   ]
  },
  {
   "cell_type": "code",
   "execution_count": null,
   "id": "4212b360",
   "metadata": {},
   "outputs": [
    {
     "name": "stderr",
     "output_type": "stream",
     "text": [
      "/home/edan/miniconda3/envs/jax/lib/python3.10/site-packages/hydra/_internal/defaults_list.py:251: UserWarning: In 'nonlinear_geoff': Defaults list is missing `_self_`. See https://hydra.cc/docs/1.2/upgrades/1.0_to_1.1/default_composition_order for more information\n",
      "  warnings.warn(msg, UserWarning)\n"
     ]
    }
   ],
   "source": [
    "experiment_base_cfg = DictConfig(dict(\n",
    "    task = {\n",
    "        'name': 'nonlinear_geoff',\n",
    "        'n_features': 128,\n",
    "        'n_real_features': '${task.n_features}',\n",
    "        'flip_rate': 0.0,\n",
    "        'n_layers': 4,\n",
    "        'n_stationary_layers': 4,\n",
    "        'hidden_dim': 128,\n",
    "        'activation': 'ltu',\n",
    "        'sparsity': 0.99,\n",
    "        'weight_init': 'binary',\n",
    "        'noise_std': 0.0,\n",
    "    },\n",
    "    train = {\n",
    "        'batch_size': 1,\n",
    "        'total_steps': 50_000,\n",
    "        'standardize_cumulants': True,\n",
    "        'log_freq': 500,\n",
    "    },\n",
    "    feature_recycling = {\n",
    "        'use_cbp_utility': True,\n",
    "        'use_signed_utility': False,\n",
    "        'recycle_rate': 0.0,\n",
    "        'utility_decay': 0.99,\n",
    "        'feature_protection_steps': 100,\n",
    "        'prune_frequency': 4,\n",
    "    },\n",
    "    model = {\n",
    "        'output_dim': 1,\n",
    "        'n_layers': 3,\n",
    "        'hidden_dim': 128,\n",
    "        'weight_init_method': 'lecun_uniform', # Input layer only\n",
    "        'activation': 'ltu',\n",
    "        'n_frozen_layers': 0,\n",
    "        'use_bias': True,\n",
    "    },\n",
    "    optimizer = {\n",
    "        'name': 'rmsprop',\n",
    "        'learning_rate': 0.001,\n",
    "    },\n",
    "))\n",
    "\n",
    "# Load hydra config\n",
    "default_cfg = hydra.compose(config_name='nonlinear_geoff')\n",
    "cfg = OmegaConf.merge(default_cfg, experiment_base_cfg)"
   ]
  },
  {
   "cell_type": "code",
   "execution_count": 4,
   "id": "354fecac",
   "metadata": {},
   "outputs": [
    {
     "name": "stderr",
     "output_type": "stream",
     "text": [
      "/home/edan/local_projects/phd_research/phd/feature_search/jax_core/experiment_helpers.py:359: UserWarning: A JAX array is being set as static! This can result in unexpected behavior and is usually a mistake to do.\n",
      "  cbp_tracker = CBPTracker(\n",
      "Training: 100%|██████████| 50000/50000 [00:02<00:00, 23497.10it/s, loss=0.92254]\n"
     ]
    }
   ],
   "source": [
    "train_state, task, metrics = prepare_and_run_experiment(cfg)"
   ]
  },
  {
   "cell_type": "code",
   "execution_count": 6,
   "id": "fa070392",
   "metadata": {},
   "outputs": [
    {
     "name": "stdout",
     "output_type": "stream",
     "text": [
      "dict_keys(['baseline_loss', 'cumulative_loss', 'loss', 'samples', 'squared_targets', 'step'])\n"
     ]
    },
    {
     "data": {
      "text/plain": [
       "[<matplotlib.lines.Line2D at 0x768bd0195600>]"
      ]
     },
     "execution_count": 6,
     "metadata": {},
     "output_type": "execute_result"
    },
    {
     "data": {
      "image/png": "[encoded data removed]",
      "text/plain": [
       "<Figure size 640x480 with 1 Axes>"
      ]
     },
     "metadata": {},
     "output_type": "display_data"
    }
   ],
   "source": [
    "print(metrics.keys())\n",
    "step = metrics['samples']\n",
    "losses = metrics['loss']\n",
    "plt.plot(step, losses)"
   ]
  },
  {
   "cell_type": "code",
   "execution_count": null,
   "id": "1275f299",
   "metadata": {},
   "outputs": [],
   "source": []
  }
 ],
 "metadata": {
  "kernelspec": {
   "display_name": "jax",
   "language": "python",
   "name": "python3"
  },
  "language_info": {
   "codemirror_mode": {
    "name": "ipython",
    "version": 3
   },
   "file_extension": ".py",
   "mimetype": "text/x-python",
   "name": "python",
   "nbconvert_exporter": "python",
   "pygments_lexer": "ipython3",
   "version": "3.10.14"
  }
 },
 "nbformat": 4,
 "nbformat_minor": 5
}
