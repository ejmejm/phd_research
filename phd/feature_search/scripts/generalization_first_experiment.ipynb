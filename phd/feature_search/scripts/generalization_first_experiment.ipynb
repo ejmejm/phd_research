{
 "cells": [
  {
   "cell_type": "code",
   "execution_count": 9,
   "id": "6af05f7a",
   "metadata": {},
   "outputs": [],
   "source": [
    "import equinox as eqx\n",
    "import hydra\n",
    "import jax\n",
    "import jax.numpy as jnp\n",
    "from omegaconf import DictConfig, OmegaConf\n",
    "\n",
    "from phd.feature_search.scripts.jax_full_feature_search import train_step, train_multi_step, run_experiment, TrainState\n",
    "from phd.feature_search.jax_core.experiment_helpers import rng_from_string, seed_from_string\n",
    "from phd.feature_search.jax_core.models import MLP\n",
    "from phd.feature_search.jax_core.tasks.geoff import NonlinearGEOFFTask\n",
    "\n",
    "if not hydra.core.global_hydra.GlobalHydra().is_initialized():\n",
    "    hydra.initialize(config_path=\"../conf\")"
   ]
  },
  {
   "cell_type": "code",
   "execution_count": 2,
   "id": "61af28b7",
   "metadata": {},
   "outputs": [],
   "source": [
    "seed = 20250925\n",
    "rng = jax.random.key(seed)"
   ]
  },
  {
   "cell_type": "code",
   "execution_count": null,
   "id": "7eae3c13",
   "metadata": {},
   "outputs": [],
   "source": []
  },
  {
   "cell_type": "code",
   "execution_count": 12,
   "id": "dd9a9e0a",
   "metadata": {},
   "outputs": [
    {
     "data": {
      "text/plain": [
       "{'name': 'static_linear_geoff', 'type': 'regression', 'n_features': 20, 'n_real_features': 10}"
      ]
     },
     "execution_count": 12,
     "metadata": {},
     "output_type": "execute_result"
    }
   ],
   "source": [
    "cfg.task"
   ]
  },
  {
   "cell_type": "code",
   "execution_count": null,
   "id": "4212b360",
   "metadata": {},
   "outputs": [
    {
     "name": "stderr",
     "output_type": "stream",
     "text": [
      "/home/ejmejm/miniconda3/envs/research/lib/python3.10/site-packages/hydra/_internal/defaults_list.py:251: UserWarning: In 'nonlinear_geoff': Defaults list is missing `_self_`. See https://hydra.cc/docs/1.2/upgrades/1.0_to_1.1/default_composition_order for more information\n",
      "  warnings.warn(msg, UserWarning)\n"
     ]
    }
   ],
   "source": [
    "# Load hydra config\n",
    "cfg = hydra.compose(\n",
    "    config_name = 'nonlinear_geoff',\n",
    "    # overrides = [\n",
    "    #     \"seed=200\",\n",
    "    #     \"model.hidden_dim=20_000\",\n",
    "    #     \"task.distractor_chance=0.95\", # 0.9\n",
    "    #     \"task.noise_std=0.0\",\n",
    "    #     \"feature_recycling.recycle_rate=0.005\",\n",
    "    #     \"train.total_steps=75_000\",\n",
    "    #     \"train.standardize_cumulants=true\",\n",
    "    #     \"optimizer.learning_rate=$\\{eval:0.03 / ${model.hidden_dim} ** 0.75\\}\",\n",
    "    # ]\n",
    ")\n",
    "\n",
    "overrides = DictConfig(dict(\n",
    "    task = {\n",
    "    },\n",
    "    train = {\n",
    "        'standardize_cumulants': True,\n",
    "    },\n",
    "    model = {\n",
    "        'use_bias': True,\n",
    "    },\n",
    "    optimizer = {\n",
    "        'name': 'rmsprop',\n",
    "        'learning_rate': 0.001,\n",
    "    },\n",
    "))\n",
    "\n",
    "cfg = OmegaConf.merge(cfg, overrides)"
   ]
  },
  {
   "cell_type": "code",
   "execution_count": null,
   "id": "d8c4a2b9",
   "metadata": {},
   "outputs": [],
   "source": [
    "config = DictConfig(dict(\n",
    "    task = {\n",
    "        'n_features': 128,\n",
    "        'flip_rate': 0.0,\n",
    "        'n_layers': 4,\n",
    "        'n_stationary_layers': 4,\n",
    "        'hidden_dim': 128,\n",
    "        'activation': 'ltu',\n",
    "        'sparsity': 0.99,\n",
    "        'weight_init': 'binary',\n",
    "        'noise_std': 0.0,\n",
    "    },\n",
    "    train = {\n",
    "        'standardize_cumulants': True,\n",
    "    },\n",
    "    model = {\n",
    "        'use_bias': True,\n",
    "    },\n",
    "    optimizer = {\n",
    "        'name': 'rmsprop',\n",
    "        'learning_rate': 0.001,\n",
    "    },\n",
    "))"
   ]
  },
  {
   "cell_type": "code",
   "execution_count": null,
   "id": "85e0b124",
   "metadata": {},
   "outputs": [],
   "source": [
    "### Create task ###\n",
    "\n",
    "task = NonlinearGEOFFTask(\n",
    "    n_features = 128,\n",
    "    flip_rate = 0.0,\n",
    "    n_layers = 4,\n",
    "    n_stationary_layers = 4,\n",
    "    hidden_dim = 128,\n",
    "    activation = 'ltu',\n",
    "    sparsity = 0.01,\n",
    "    weight_init = 'binary',\n",
    "    seed = seed_from_string(seed, 'task')\n",
    ")\n",
    "\n",
    "task_init_key = rng_from_string(rng, 'task_init_key')\n",
    "task.weights[-1] = jax.random.uniform(\n",
    "    task_init_key,\n",
    "    task.weights[-1].shape,\n",
    "    minval = -jnp.sqrt(6 / task.weights[-1].shape[0]),\n",
    "    maxval = jnp.sqrt(6 / task.weights[-1].shape[0]),\n",
    ")\n",
    "\n",
    "\n",
    "### Create model ###\n",
    "\n",
    "model = MLP(\n",
    "    input_dim = 128,\n",
    "    output_dim = 1,\n",
    "    n_layers = 3,\n",
    "    hidden_dim = 128,\n",
    "    weight_init_method = 'lecun_uniform', # Input layer only\n",
    "    activation = 'ltu',\n",
    "    n_frozen_layers = 0,\n",
    "    key = rng_from_string(rng, 'model'),\n",
    ")\n",
    "model = eqx.tree_at(\n",
    "    lambda m: m.layers[-1].weight, model,\n",
    "    jnp.zeros_like(model.layers[-1].weight),\n",
    ")\n",
    "\n",
    "\n",
    "### Create optimizer ###\n",
    "\n",
    "optimizer = eqx.nn.optimizers.Adam(\n",
    "    model,\n",
    "    learning_rate=0.001,\n",
    ")\n",
    "\n",
    "\n",
    "### Prepare train state ###\n",
    "\n",
    "train_state = TrainState(\n",
    "    model = model,\n",
    "    optimizer = optimizer,\n",
    "    repr_optimizer = repr_optimizer,\n",
    "    cbp_tracker = cbp_tracker,\n",
    "    distractor_tracker = distractor_tracker,\n",
    "    cfg = cfg,\n",
    "    criterion = criterion,\n",
    "    rng = rng,\n",
    ")\n"
   ]
  },
  {
   "cell_type": "code",
   "execution_count": 5,
   "id": "fecef496",
   "metadata": {},
   "outputs": [],
   "source": [
    "config = DictConfig(dict(\n",
    "    task = {\n",
    "        'noise_std': 0.0,\n",
    "    },\n",
    "    train = {\n",
    "        'standardize_cumulants': True,\n",
    "    },\n",
    "    model = {\n",
    "        'use_bias': True,\n",
    "    },\n",
    "    optimizer = {\n",
    "        'name': 'rmsprop',\n",
    "        'learning_rate': 0.001,\n",
    "    },\n",
    "))"
   ]
  },
  {
   "cell_type": "code",
   "execution_count": 238,
   "id": "0b4250cb",
   "metadata": {},
   "outputs": [
    {
     "data": {
      "text/plain": [
       "(Array([[-0.10118932]], dtype=float32),\n",
       " Array([[ 0.36812264,  0.14396961,  0.23775421, -2.1664    ,  1.4979659 ,\n",
       "         -1.2783132 , -1.1702579 , -0.4902626 , -1.0994087 ,  0.4753345 ,\n",
       "         -0.02034544,  0.18264541, -0.20153946,  0.48281607, -1.4713173 ,\n",
       "         -0.02804903,  0.4123233 , -0.34940764,  1.110215  ,  0.6521102 ,\n",
       "          0.15252645,  0.37967673,  1.518812  ,  0.04493431,  1.7105712 ,\n",
       "         -0.5803446 ,  0.6708027 ,  3.1807697 ,  0.2173414 ,  0.85257137,\n",
       "          1.3861659 ,  0.47228897, -0.05502069,  0.22800943,  0.04969765,\n",
       "         -0.30049673,  0.3231354 , -0.77608275, -0.41071197,  0.85540485,\n",
       "          0.25477242, -0.9231067 , -1.1086105 ,  1.1790812 ,  0.7669939 ,\n",
       "         -0.26520517, -1.1834105 , -0.13719901, -1.9254636 ,  0.61254644,\n",
       "         -0.09367189,  2.0645673 ,  1.1909419 , -0.2551069 ,  0.76494515,\n",
       "         -0.4698652 , -0.6349504 , -0.10417689,  0.16939937,  0.3544758 ,\n",
       "         -0.21521348, -0.7152432 ,  1.2963883 ,  1.3865126 ,  0.36697778,\n",
       "          1.9650115 ,  1.6024747 , -1.0951653 ,  1.4238402 ,  2.8279715 ,\n",
       "         -0.51586264,  0.5367762 , -0.90366256,  2.5375187 , -0.00970046,\n",
       "          1.1531458 , -0.9333654 ,  0.16929388,  0.17611945, -0.30754402,\n",
       "         -0.35797217, -0.41627318,  0.31631052, -0.04356186,  0.06973235,\n",
       "         -0.38892844, -1.0805641 ,  1.1328105 ,  1.1469933 ,  1.4188653 ,\n",
       "         -1.3131315 ,  1.8155488 , -1.7265414 ,  0.40323693, -0.76993513,\n",
       "          0.11083292, -1.1801242 , -1.3425319 , -0.34216952,  0.61085814,\n",
       "          0.3601839 ,  2.05175   , -0.14281681, -0.6218203 ,  0.8960888 ,\n",
       "          0.2501907 ,  1.847944  ,  0.13982028,  0.9928573 , -1.2118813 ,\n",
       "          0.9786542 ,  0.709595  , -0.544027  , -1.047333  , -1.5149289 ,\n",
       "          0.34851795,  0.09125508,  0.7210225 ,  0.15247083, -0.72874564,\n",
       "         -0.22381249, -1.1981525 ,  2.9079578 , -0.14453621, -0.98512304,\n",
       "         -0.11514492,  0.4123571 ,  0.5283206 ]], dtype=float32))"
      ]
     },
     "execution_count": 238,
     "metadata": {},
     "output_type": "execute_result"
    }
   ],
   "source": [
    "task, (x, y) = task.generate_batch(1)\n",
    "y, x"
   ]
  },
  {
   "cell_type": "code",
   "execution_count": null,
   "id": "1275f299",
   "metadata": {},
   "outputs": [],
   "source": []
  }
 ],
 "metadata": {
  "kernelspec": {
   "display_name": "research",
   "language": "python",
   "name": "python3"
  },
  "language_info": {
   "codemirror_mode": {
    "name": "ipython",
    "version": 3
   },
   "file_extension": ".py",
   "mimetype": "text/x-python",
   "name": "python",
   "nbconvert_exporter": "python",
   "pygments_lexer": "ipython3",
   "version": "3.10.16"
  }
 },
 "nbformat": 4,
 "nbformat_minor": 5
}
