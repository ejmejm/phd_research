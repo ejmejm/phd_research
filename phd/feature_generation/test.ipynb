{
 "cells": [
  {
   "cell_type": "code",
   "execution_count": 2,
   "id": "9b0eecff",
   "metadata": {},
   "outputs": [
    {
     "name": "stdout",
     "output_type": "stream",
     "text": [
      "Loading textures from cache\n"
     ]
    }
   ],
   "source": [
    "from functools import partial\n",
    "import glob\n",
    "import os\n",
    "from typing import Callable, Optional, Sequence, Type\n",
    "\n",
    "import equinox as eqx\n",
    "from equinox import nn\n",
    "import matplotlib.pyplot as plt\n",
    "import numpy as np\n",
    "import jax\n",
    "import jax.numpy as jnp\n",
    "from jaxtyping import Array, PRNGKeyArray\n",
    "import optax\n",
    "\n",
    "jax.config.update(\"jax_compilation_cache_dir\", \"/tmp/jax_cache\")\n",
    "jax.config.update(\"jax_persistent_cache_min_entry_size_bytes\", -1)\n",
    "jax.config.update(\"jax_persistent_cache_min_compile_time_secs\", 0.05)\n",
    "\n",
    "from environment_base.util import load_compressed_pickle\n",
    "from craftax.craftax_state import EnvState\n",
    "from craftax.renderer import render_craftax_pixels\n",
    "from craftax.constants import BLOCK_PIXEL_SIZE_AGENT, BLOCK_PIXEL_SIZE_IMG\n",
    "\n",
    "%matplotlib inline"
   ]
  },
  {
   "cell_type": "code",
   "execution_count": 3,
   "id": "5db2ecb9",
   "metadata": {},
   "outputs": [],
   "source": [
    "run_paths = sorted(glob.glob(os.path.join('data/', '*.pbz2')))\n",
    "run = load_compressed_pickle(run_paths[-1])"
   ]
  },
  {
   "cell_type": "code",
   "execution_count": 4,
   "id": "a685834d",
   "metadata": {},
   "outputs": [
    {
     "name": "stdout",
     "output_type": "stream",
     "text": [
      "dict_keys(['state', 'action', 'reward', 'done'])\n",
      "state: 3645\n",
      "action: 3644\n",
      "reward: 3644\n",
      "done: 3644\n"
     ]
    }
   ],
   "source": [
    "print(run.keys())\n",
    "for k, v in run.items():\n",
    "    print(f'{k}: {v.shape if isinstance(v, np.ndarray) else len(v)}')"
   ]
  },
  {
   "cell_type": "code",
   "execution_count": 5,
   "id": "7652cbc4",
   "metadata": {},
   "outputs": [],
   "source": [
    "all_imgs = [render_craftax_pixels(state, BLOCK_PIXEL_SIZE_AGENT) for state in run['state']]\n",
    "all_imgs = jnp.stack(all_imgs) / 255.0\n",
    "\n",
    "all_actions = jnp.stack(run['action'])\n",
    "all_rewards = jnp.stack(run['reward'])\n",
    "all_dones = jnp.stack(run['done'])"
   ]
  },
  {
   "cell_type": "code",
   "execution_count": 6,
   "id": "21dbd131",
   "metadata": {},
   "outputs": [
    {
     "name": "stdout",
     "output_type": "stream",
     "text": [
      "(91, 77, 3)\n"
     ]
    },
    {
     "data": {
      "image/png": "[encoded data removed]",
      "text/plain": [
       "<Figure size 640x480 with 1 Axes>"
      ]
     },
     "metadata": {},
     "output_type": "display_data"
    }
   ],
   "source": [
    "print(all_imgs[0].shape)\n",
    "plt.imshow(all_imgs[0])\n",
    "plt.show()"
   ]
  },
  {
   "cell_type": "code",
   "execution_count": 7,
   "id": "ee9c9110",
   "metadata": {},
   "outputs": [],
   "source": [
    "# TODO:\n",
    "#   1. Create a function that trains the model to predict the next state with a variable batch size\n",
    "#       - Make an MLP model\n",
    "#       - Make an RMSProp optimizer\n",
    "#       - Create a training loop\n",
    "#   2. Test wth a few different batch sizes and step-sizes\n",
    "#   3. Try adding FTA to a middle layer"
   ]
  },
  {
   "cell_type": "code",
   "execution_count": null,
   "id": "5de01758",
   "metadata": {},
   "outputs": [
    {
     "name": "stderr",
     "output_type": "stream",
     "text": [
      "/tmp/ipykernel_71646/2272373058.py:15: UserWarning: A JAX array is being set as static! This can result in unexpected behavior and is usually a mistake to do.\n",
      "  nn.Linear(layer_sizes[i - 1], layer_sizes[i], use_bias=False, key=keys[i-1]))\n"
     ]
    }
   ],
   "source": [
    "def make_mlp_layers(\n",
    "    layer_sizes: Sequence[int],\n",
    "    activation_cls: Optional[Type[eqx.Module]] = None,\n",
    "    *,\n",
    "    key: Optional[PRNGKeyArray] = None\n",
    ") -> Array:\n",
    "    layers = []\n",
    "    if key is not None:\n",
    "        keys = jax.random.split(key, len(layer_sizes) - 1)\n",
    "    else:\n",
    "        keys = [None] * (len(layer_sizes) - 1)\n",
    "    \n",
    "    for i in range(1, len(layer_sizes)):\n",
    "        layers.append(\n",
    "            nn.Linear(layer_sizes[i - 1], layer_sizes[i], use_bias=False, key=keys[i-1]))\n",
    "        if i < len(layer_sizes) - 1 and activation_cls is not None:\n",
    "            layers.append(activation_cls())\n",
    "    return layers\n",
    "\n",
    "\n",
    "class ReLU(eqx.Module):\n",
    "    def __call__(self, x: Array, *, key: Optional[PRNGKeyArray] = None) -> Array:\n",
    "        return jax.nn.relu(x)\n",
    "\n",
    "model = nn.Sequential(make_mlp_layers(\n",
    "    layer_sizes = [np.prod(all_imgs.shape[1:]), 16, np.prod(all_imgs.shape[1:])],\n",
    "    activation_cls = ReLU,\n",
    "    key = jax.random.PRNGKey(0),\n",
    "))\n",
    "\n",
    "\n",
    "class MLP(eqx.Module):\n",
    "    layers: list[eqx.Module]\n",
    "    activation: Optional[Callable[[Array], Array]] = eqx.field(static=True)\n",
    "\n",
    "    def __init__(self, layer_sizes: Sequence[int], activation_fn: Optional[Callable[[Array], Array]] = None, *, key: Optional[PRNGKeyArray] = None):\n",
    "        self.layers = make_mlp_layers(layer_sizes, key=key)\n",
    "        self.activation = activation_fn\n",
    "\n",
    "    def __call__(self, x: Array, *, key: Optional[PRNGKeyArray] = None) -> Array:\n",
    "        for i, layer in enumerate(self.layers):\n",
    "            x = layer(x, key=key)\n",
    "            if self.activation is not None and i < len(self.layers) - 1:\n",
    "                x = self.activation(x)\n",
    "        return x"
   ]
  },
  {
   "cell_type": "code",
   "execution_count": 9,
   "id": "4d7a351a",
   "metadata": {},
   "outputs": [
    {
     "name": "stdout",
     "output_type": "stream",
     "text": [
      "obs_dim 452\n",
      "(2, 5)\n",
      "(452,)\n",
      "(2, 452)\n"
     ]
    }
   ],
   "source": [
    "obs_dim = 452 #int(np.prod(all_imgs.shape[1:]))\n",
    "print('obs_dim', obs_dim)\n",
    "\n",
    "\n",
    "mlp = MLP(\n",
    "    layer_sizes = [obs_dim, 10, 5],\n",
    "    activation_fn = jax.nn.relu,\n",
    "    key = jax.random.PRNGKey(0),\n",
    ")\n",
    "print(jax.vmap(mlp)(jnp.ones((2, obs_dim,)), key=jax.random.PRNGKey(1)).shape)\n",
    "\n",
    "\n",
    "model = nn.Sequential(make_mlp_layers(\n",
    "    layer_sizes = [obs_dim, 16, obs_dim],\n",
    "    activation_cls = ReLU,\n",
    "    key = jax.random.PRNGKey(0),\n",
    "))\n",
    "print(model(jnp.ones((obs_dim,)), key=jax.random.PRNGKey(1)).shape)\n",
    "print(jax.vmap(model)(jnp.ones((2, obs_dim))).shape)"
   ]
  },
  {
   "cell_type": "code",
   "execution_count": 42,
   "id": "93b88007",
   "metadata": {},
   "outputs": [],
   "source": [
    "def loss_from_inputs_and_targets(model, batched_inputs, batched_targets):\n",
    "    preds = jax.vmap(model)(batched_inputs, key=None)\n",
    "    return jnp.mean((preds - batched_targets) ** 2)\n",
    "\n",
    "\n",
    "def train_step(carry, inputs, optimizer: optax.GradientTransformation):\n",
    "    model, opt_state, rng = carry\n",
    "    inputs, targets = inputs\n",
    "    rng, rng_step = jax.random.split(rng)\n",
    "    \n",
    "    loss, grads = jax.value_and_grad(loss_from_inputs_and_targets)(model, inputs, targets)\n",
    "    updates, opt_state = optimizer.update(grads, opt_state)\n",
    "    model = eqx.apply_updates(model, updates)\n",
    "    \n",
    "    return (model, opt_state, rng), {\n",
    "        'loss': loss,\n",
    "    }\n",
    "\n",
    "\n",
    "# @partial(jax.jit, static_argnames=('optimizer', 'batch_size',))\n",
    "def train_loop(model, optimizer, opt_state, inputs, targets, batch_size, rng):\n",
    "    n_batches = inputs.shape[0] // batch_size\n",
    "    n_samples = n_batches * batch_size\n",
    "    \n",
    "    batched_inputs = inputs[:n_samples].reshape(n_batches, batch_size, -1)\n",
    "    batched_targets = targets[:n_samples].reshape(n_batches, batch_size, -1)\n",
    "\n",
    "    (model, opt_state, _), stats = jax.lax.scan(\n",
    "        partial(train_step, optimizer=optimizer),\n",
    "        init = (model, opt_state, rng),\n",
    "        xs = (batched_inputs, batched_targets),\n",
    "    )\n",
    "    \n",
    "    # stats = []\n",
    "    # for i in range(n_batches):\n",
    "    #     (model, opt_state, _), step_stats = train_step(\n",
    "    #         (model, opt_state, rng),\n",
    "    #         (batched_inputs[i], batched_targets[i]),\n",
    "    #         optimizer,\n",
    "    #     )\n",
    "    #     stats.append(step_stats)\n",
    "    \n",
    "    return model, opt_state, stats"
   ]
  },
  {
   "cell_type": "code",
   "execution_count": 116,
   "id": "49867794",
   "metadata": {},
   "outputs": [
    {
     "name": "stdout",
     "output_type": "stream",
     "text": [
      "Total parameters: 2,698,880\n"
     ]
    }
   ],
   "source": [
    "rng = jax.random.PRNGKey(20250901)\n",
    "rngs = jax.random.split(rng, 10)\n",
    "\n",
    "obs_dim = int(np.prod(all_imgs.shape[1:]))\n",
    "model = nn.Sequential(make_mlp_layers(\n",
    "    layer_sizes = [obs_dim, 64, 64, 64, obs_dim],\n",
    "    activation_cls = ReLU,\n",
    "    key = rngs[0],\n",
    "))\n",
    "\n",
    "n_params = sum(x.size for x in jax.tree_util.tree_leaves(model))\n",
    "print(f\"Total parameters: {n_params:,}\")\n",
    "\n",
    "learning_rate = 1.0 / np.sqrt(np.prod(all_imgs.shape[1:]))\n",
    "optimizer = optax.rmsprop(learning_rate=learning_rate)\n",
    "opt_state = optimizer.init(eqx.filter(model, eqx.is_inexact_array))"
   ]
  },
  {
   "cell_type": "code",
   "execution_count": 123,
   "id": "7dd15b70",
   "metadata": {},
   "outputs": [
    {
     "name": "stdout",
     "output_type": "stream",
     "text": [
      "0.10060621\n"
     ]
    },
    {
     "data": {
      "text/plain": [
       "[<matplotlib.lines.Line2D at 0x7240324dfa60>]"
      ]
     },
     "execution_count": 123,
     "metadata": {},
     "output_type": "execute_result"
    },
    {
     "data": {
      "image/png": "[encoded data removed]",
      "text/plain": [
       "<Figure size 640x480 with 1 Axes>"
      ]
     },
     "metadata": {},
     "output_type": "display_data"
    }
   ],
   "source": [
    "new_model, new_opt_state, stats = train_loop(\n",
    "    model = model,\n",
    "    optimizer = optimizer,\n",
    "    opt_state = opt_state,\n",
    "    inputs = all_imgs,\n",
    "    targets = all_imgs,\n",
    "    batch_size = 1,\n",
    "    rng = rngs[1],\n",
    ")\n",
    "\n",
    "print(stats['loss'].mean())\n",
    "plt.plot(stats['loss'])"
   ]
  },
  {
   "cell_type": "code",
   "execution_count": 69,
   "id": "6c60b749",
   "metadata": {},
   "outputs": [
    {
     "data": {
      "text/plain": [
       "Array(False, dtype=bool)"
      ]
     },
     "execution_count": 69,
     "metadata": {},
     "output_type": "execute_result"
    }
   ],
   "source": [
    "jax.tree.reduce(lambda x, y: x and y, jax.tree.map(lambda x, y: (x == y).all(), model, new_model))"
   ]
  }
 ],
 "metadata": {
  "kernelspec": {
   "display_name": "jax",
   "language": "python",
   "name": "python3"
  },
  "language_info": {
   "codemirror_mode": {
    "name": "ipython",
    "version": 3
   },
   "file_extension": ".py",
   "mimetype": "text/x-python",
   "name": "python",
   "nbconvert_exporter": "python",
   "pygments_lexer": "ipython3",
   "version": "3.10.14"
  }
 },
 "nbformat": 4,
 "nbformat_minor": 5
}
