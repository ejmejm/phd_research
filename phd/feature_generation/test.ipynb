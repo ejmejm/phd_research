{
 "cells": [
  {
   "cell_type": "code",
   "execution_count": 1,
   "id": "9b0eecff",
   "metadata": {},
   "outputs": [
    {
     "name": "stdout",
     "output_type": "stream",
     "text": [
      "Processing textures\n",
      "Textures saved to cache\n"
     ]
    }
   ],
   "source": [
    "from functools import partial\n",
    "import glob\n",
    "import os\n",
    "from typing import Callable, Optional, Sequence, Type\n",
    "\n",
    "import equinox as eqx\n",
    "from equinox import nn\n",
    "import matplotlib.pyplot as plt\n",
    "import numpy as np\n",
    "import jax\n",
    "import jax.numpy as jnp\n",
    "from jaxtyping import Array, PRNGKeyArray\n",
    "import optax\n",
    "\n",
    "jax.config.update(\"jax_compilation_cache_dir\", \"/tmp/jax_cache\")\n",
    "jax.config.update(\"jax_persistent_cache_min_entry_size_bytes\", -1)\n",
    "jax.config.update(\"jax_persistent_cache_min_compile_time_secs\", 0.05)\n",
    "\n",
    "from environment_base.util import load_compressed_pickle\n",
    "from craftax.craftax_state import EnvState\n",
    "from craftax.renderer import render_craftax_pixels\n",
    "from craftax.constants import BLOCK_PIXEL_SIZE_AGENT, BLOCK_PIXEL_SIZE_IMG\n",
    "\n",
    "%matplotlib inline"
   ]
  },
  {
   "cell_type": "code",
   "execution_count": null,
   "id": "5db2ecb9",
   "metadata": {},
   "outputs": [],
   "source": [
    "run_paths = sorted(glob.glob(os.path.join('data/', '*.pbz2')))\n",
    "run = load_compressed_pickle(run_paths[-1])"
   ]
  },
  {
   "cell_type": "code",
   "execution_count": 3,
   "id": "a685834d",
   "metadata": {},
   "outputs": [
    {
     "name": "stdout",
     "output_type": "stream",
     "text": [
      "dict_keys(['state', 'action', 'reward', 'done'])\n",
      "state: 3645\n",
      "action: 3644\n",
      "reward: 3644\n",
      "done: 3644\n"
     ]
    }
   ],
   "source": [
    "print(run.keys())\n",
    "for k, v in run.items():\n",
    "    print(f'{k}: {v.shape if isinstance(v, np.ndarray) else len(v)}')"
   ]
  },
  {
   "cell_type": "code",
   "execution_count": 4,
   "id": "7652cbc4",
   "metadata": {},
   "outputs": [],
   "source": [
    "all_imgs = [render_craftax_pixels(state, BLOCK_PIXEL_SIZE_AGENT) for state in run['state']]\n",
    "all_imgs = jnp.stack(all_imgs) / 255.0\n",
    "\n",
    "all_actions = jnp.stack(run['action'])\n",
    "all_rewards = jnp.stack(run['reward'])\n",
    "all_dones = jnp.stack(run['done'])"
   ]
  },
  {
   "cell_type": "code",
   "execution_count": 5,
   "id": "21dbd131",
   "metadata": {},
   "outputs": [
    {
     "name": "stdout",
     "output_type": "stream",
     "text": [
      "(91, 77, 3)\n"
     ]
    },
    {
     "data": {
      "image/png": "[encoded data removed]",
      "text/plain": [
       "<Figure size 640x480 with 1 Axes>"
      ]
     },
     "metadata": {},
     "output_type": "display_data"
    }
   ],
   "source": [
    "print(all_imgs[0].shape)\n",
    "plt.imshow(all_imgs[0])\n",
    "plt.show()"
   ]
  },
  {
   "cell_type": "code",
   "execution_count": 6,
   "id": "ee9c9110",
   "metadata": {},
   "outputs": [],
   "source": [
    "# TODO:\n",
    "#   1. Create a function that trains the model to predict the next state with a variable batch size\n",
    "#       - Make an MLP model\n",
    "#       - Make an RMSProp optimizer\n",
    "#       - Create a training loop\n",
    "#   2. Test wth a few different batch sizes and step-sizes\n",
    "#   3. Try simple MLP, CNN, and Streaming MLP\n",
    "#   4. Try sweeping through layer dimensions and learning rates"
   ]
  },
  {
   "cell_type": "code",
   "execution_count": 60,
   "id": "5de01758",
   "metadata": {},
   "outputs": [],
   "source": [
    "def make_mlp_layers(\n",
    "    layer_sizes: Sequence[int],\n",
    "    activation_cls: Optional[Type[eqx.Module]] = None,\n",
    "    *,\n",
    "    key: Optional[PRNGKeyArray] = None\n",
    ") -> Array:\n",
    "    layers = []\n",
    "    if key is not None:\n",
    "        keys = jax.random.split(key, len(layer_sizes) - 1)\n",
    "    else:\n",
    "        keys = [None] * (len(layer_sizes) - 1)\n",
    "    \n",
    "    for i in range(1, len(layer_sizes)):\n",
    "        layers.append(\n",
    "            nn.Linear(layer_sizes[i - 1], layer_sizes[i], use_bias=False, key=keys[i-1]))\n",
    "        if i < len(layer_sizes) - 1 and activation_cls is not None:\n",
    "            layers.append(activation_cls())\n",
    "    return layers\n",
    "\n",
    "\n",
    "class ReLU(eqx.Module):\n",
    "    def __call__(self, x: Array, *, key: Optional[PRNGKeyArray] = None) -> Array:\n",
    "        return jax.nn.relu(x)\n",
    "\n",
    "\n",
    "class ReshapeLayer(eqx.Module):\n",
    "    shape: int | Sequence[int] = eqx.field(static=True)\n",
    "\n",
    "    def __call__(self, x: Array, *, key: Optional[PRNGKeyArray] = None) -> Array:\n",
    "        return x.reshape(self.shape)\n",
    "\n",
    "\n",
    "class MLP(eqx.Module):\n",
    "    layers: list[eqx.Module]\n",
    "\n",
    "    def __init__(\n",
    "        self,\n",
    "        layer_sizes: Sequence[int],\n",
    "        activation_cls: Optional[Type[eqx.Module]] = None,\n",
    "        *,\n",
    "        key: Optional[PRNGKeyArray] = None,\n",
    "    ):\n",
    "        self.layers = nn.Sequential(make_mlp_layers(layer_sizes, activation_cls, key=key))\n",
    "\n",
    "    def __call__(self, x: Array, *, key: Optional[PRNGKeyArray] = None) -> Array:\n",
    "        return self.layers(x, key=key)\n",
    "\n",
    "\n",
    "class ConvAutoencoder(eqx.Module):\n",
    "    encoder: nn.Sequential\n",
    "    decoder: nn.Sequential\n",
    "\n",
    "    def __init__(\n",
    "        self,\n",
    "        input_shape: Sequence[int],\n",
    "        channel_sizes: Sequence[int], # Not including input channel size\n",
    "        kernel_sizes: Sequence[int],\n",
    "        strides: Sequence[int],\n",
    "        paddings: Sequence[int],\n",
    "        latent_dim: int,\n",
    "        first_decoder_padding: Sequence[int] = (0, 0),\n",
    "        *,\n",
    "        key: Optional[PRNGKeyArray] = None,\n",
    "    ):\n",
    "        keys = jax.random.split(key, 2 * len(kernel_sizes) + 3)\n",
    "        encoder_keys = keys[:len(keys) // 2]\n",
    "        decoder_keys = keys[len(keys) // 2:]\n",
    "        \n",
    "        channel_sizes = [input_shape[0]] + list(channel_sizes)\n",
    "        \n",
    "        ### Create encoder\n",
    "        \n",
    "        encoder_layers = []\n",
    "        for i in range(1, len(channel_sizes)):\n",
    "            encoder_layers.append(nn.Conv2d(\n",
    "                channel_sizes[i-1], channel_sizes[i], kernel_sizes[i-1],\n",
    "                strides[i-1], paddings[i-1], key=encoder_keys[i-1],\n",
    "            ))\n",
    "            encoder_layers.append(ReLU())\n",
    "            \n",
    "        sample_value = jnp.zeros(input_shape)\n",
    "        for layer in encoder_layers:\n",
    "            sample_value = layer(sample_value, key=key)\n",
    "        intermediate_shape = sample_value.shape\n",
    "        \n",
    "        encoder_layers.append(ReshapeLayer(-1))\n",
    "        encoder_layers.append(nn.Linear(sample_value.size, latent_dim, key=encoder_keys[-1]))\n",
    "        \n",
    "        self.encoder = nn.Sequential(encoder_layers)\n",
    "        \n",
    "        ### Create decoder\n",
    "        \n",
    "        decoder_layers = [\n",
    "            nn.Linear(latent_dim, sample_value.size, key=decoder_keys[0]),\n",
    "            ReshapeLayer(intermediate_shape),\n",
    "        ]\n",
    "        \n",
    "        for i in reversed(range(1, len(channel_sizes))):\n",
    "            if i == len(channel_sizes) - 1:\n",
    "                paddings = first_decoder_padding\n",
    "            else:\n",
    "                paddings = paddings[i-1]\n",
    "                \n",
    "            decoder_layers.append(ReLU())\n",
    "            decoder_layers.append(nn.ConvTranspose2d(\n",
    "                channel_sizes[i], channel_sizes[i-1], kernel_sizes[i-1],\n",
    "                strides[i-1], paddings, key=decoder_keys[i],\n",
    "            ))\n",
    "        \n",
    "        decoder_layers.append(nn.AdaptiveMaxPool2d(input_shape[1:]))\n",
    "        decoder_layers.append(ReshapeLayer(input_shape))\n",
    "        decoder_layers.append(nn.Conv2d(\n",
    "            input_shape[0], input_shape[0], 1, key=decoder_keys[-1]))\n",
    "        \n",
    "        self.decoder = nn.Sequential(decoder_layers)\n",
    "        \n",
    "    \n",
    "    def __call__(self, x: Array, *, key: Optional[PRNGKeyArray] = None) -> Array:\n",
    "        return self.decoder(self.encoder(x, key=key), key=key)"
   ]
  },
  {
   "cell_type": "code",
   "execution_count": 61,
   "id": "93b88007",
   "metadata": {},
   "outputs": [],
   "source": [
    "def loss_from_inputs_and_targets(model, batched_inputs, batched_targets):\n",
    "    preds = jax.vmap(model)(batched_inputs)\n",
    "    return jnp.mean((preds - batched_targets) ** 2)\n",
    "\n",
    "\n",
    "def train_step(carry, inputs, model_static, optimizer: optax.GradientTransformation):\n",
    "    params, opt_state, rng = carry\n",
    "    inputs, targets = inputs\n",
    "    rng, rng_step = jax.random.split(rng)\n",
    "    \n",
    "    model = eqx.combine(params, model_static)\n",
    "    loss, grads = eqx.filter_value_and_grad(loss_from_inputs_and_targets)(model, inputs, targets)\n",
    "    updates, opt_state = optimizer.update(grads, opt_state)\n",
    "    model = eqx.apply_updates(model, updates)\n",
    "    \n",
    "    params = eqx.partition(model, eqx.is_inexact_array)[0]\n",
    "    return (params, opt_state, rng), {\n",
    "        'loss': loss,\n",
    "    }\n",
    "\n",
    "\n",
    "# @partial(jax.jit, static_argnames=('optimizer',))\n",
    "# @eqx.filter_jit\n",
    "def train_loop(model, optimizer, opt_state, inputs, targets, rng):\n",
    "    params, static = eqx.partition(model, eqx.is_inexact_array)\n",
    "    (params, opt_state, _), stats = jax.lax.scan(\n",
    "        partial(train_step, optimizer=optimizer, model_static=static),\n",
    "        init = (params, opt_state, rng),\n",
    "        xs = (inputs, targets),\n",
    "    )\n",
    "    model = eqx.combine(params, static)\n",
    "    \n",
    "    # stats = []\n",
    "    # for i in range(inputs.shape[0]):\n",
    "    #     (model, opt_state, rng), step_stats = train_step(\n",
    "    #         (model, opt_state, rng),\n",
    "    #         (inputs[i], targets[i]),\n",
    "    #         optimizer,\n",
    "    #     )\n",
    "    #     stats.append(step_stats)\n",
    "    \n",
    "    return model, opt_state, stats"
   ]
  },
  {
   "cell_type": "code",
   "execution_count": 62,
   "id": "49535637",
   "metadata": {},
   "outputs": [],
   "source": [
    "# m = ConvAutoencoder(\n",
    "#     input_shape = all_imgs[0].transpose(2, 0, 1).shape,\n",
    "#     channel_sizes = (32, 16),\n",
    "#     kernel_sizes = (7, 4),\n",
    "#     strides = (4, 2),\n",
    "#     paddings = (0, 0),\n",
    "#     latent_dim = 128,\n",
    "#     first_decoder_padding = (0, 1),\n",
    "#     key = jax.random.PRNGKey(20250901),\n",
    "# )\n",
    "\n",
    "# learning_rate = 1.0 / np.sqrt(np.prod(all_imgs.shape[1:]))\n",
    "# optimizer = optax.rmsprop(learning_rate=learning_rate)\n",
    "# opt_state = optimizer.init(eqx.filter(m, eqx.is_inexact_array))\n",
    "\n",
    "# jax.jit(jax.vmap(m))(all_imgs[:2].transpose(0, 3, 1, 2))\n",
    "# jax.jit(loss_from_inputs_and_targets)(m, all_imgs[:2].transpose(0, 3, 1, 2), all_imgs[:2].transpose(0, 3, 1, 2))\n",
    "    \n",
    "# def a(m, optimizer, opt_state):\n",
    "#     loss, grads = jax.value_and_grad(loss_from_inputs_and_targets)(m, all_imgs[:2].transpose(0, 3, 1, 2), all_imgs[:2].transpose(0, 3, 1, 2))\n",
    "#     updates, opt_state = optimizer.update(grads, opt_state)\n",
    "#     # m = eqx.apply_updates(m, updates)\n",
    "#     return m, opt_state\n",
    "\n",
    "# # jax.jit(a, static_argnames=('optimizer',))(m, optimizer, opt_state)"
   ]
  },
  {
   "cell_type": "code",
   "execution_count": 68,
   "id": "49867794",
   "metadata": {},
   "outputs": [
    {
     "name": "stdout",
     "output_type": "stream",
     "text": [
      "Total parameters: 2,698,880\n",
      "0.100311816\n"
     ]
    },
    {
     "data": {
      "text/plain": [
       "[<matplotlib.lines.Line2D at 0x7f337ed95000>]"
      ]
     },
     "execution_count": 68,
     "metadata": {},
     "output_type": "execute_result"
    },
    {
     "data": {
      "image/png": "[encoded data removed]",
      "text/plain": [
       "<Figure size 640x480 with 1 Axes>"
      ]
     },
     "metadata": {},
     "output_type": "display_data"
    }
   ],
   "source": [
    "rng = jax.random.PRNGKey(20250901)\n",
    "rngs = jax.random.split(rng, 10)\n",
    "\n",
    "obs_dim = int(np.prod(all_imgs.shape[1:]))\n",
    "model = MLP(\n",
    "    layer_sizes = [obs_dim, 64, 64, 64, obs_dim],\n",
    "    activation_cls = ReLU,\n",
    "    key = rngs[0],\n",
    ")\n",
    "\n",
    "n_params = sum(x.size for x in jax.tree_util.tree_leaves(model))\n",
    "print(f\"Total parameters: {n_params:,}\")\n",
    "\n",
    "learning_rate = 1.0 / np.sqrt(np.prod(all_imgs.shape[1:]))\n",
    "optimizer = optax.rmsprop(learning_rate=learning_rate)\n",
    "opt_state = optimizer.init(eqx.filter(model, eqx.is_inexact_array))\n",
    "\n",
    "\n",
    "### Prepare data ###\n",
    "\n",
    "batch_size = 1\n",
    "n_batches = (all_imgs.shape[0] - 1) // batch_size\n",
    "n_samples = n_batches * batch_size\n",
    "\n",
    "batched_inputs = all_imgs[:n_samples].reshape(n_batches, batch_size, -1)\n",
    "batched_targets = all_imgs[1:n_samples+1].reshape(n_batches, batch_size, -1)\n",
    "\n",
    "\n",
    "### Train ###\n",
    "\n",
    "new_model, new_opt_state, stats = train_loop(\n",
    "    model = model,\n",
    "    optimizer = optimizer,\n",
    "    opt_state = opt_state,\n",
    "    inputs = batched_inputs,\n",
    "    targets = batched_targets,\n",
    "    rng = rngs[1],\n",
    ")\n",
    "\n",
    "print(stats['loss'].mean())\n",
    "plt.plot(stats['loss'])"
   ]
  },
  {
   "cell_type": "code",
   "execution_count": 70,
   "id": "a41c9be9",
   "metadata": {},
   "outputs": [
    {
     "name": "stdout",
     "output_type": "stream",
     "text": [
      "Total parameters: 354,975\n",
      "0.029525962\n"
     ]
    },
    {
     "data": {
      "text/plain": [
       "(0.0, 1.0)"
      ]
     },
     "execution_count": 70,
     "metadata": {},
     "output_type": "execute_result"
    },
    {
     "data": {
      "image/png": "[encoded data removed]",
      "text/plain": [
       "<Figure size 640x480 with 1 Axes>"
      ]
     },
     "metadata": {},
     "output_type": "display_data"
    }
   ],
   "source": [
    "rng = jax.random.PRNGKey(20250901)\n",
    "rngs = jax.random.split(rng, 10)\n",
    "\n",
    "obs_dim = int(np.prod(all_imgs.shape[1:]))\n",
    "conv_model = ConvAutoencoder(\n",
    "    input_shape = all_imgs[0].transpose(2, 0, 1).shape,\n",
    "    channel_sizes = (32, 16),\n",
    "    kernel_sizes = (7, 4),\n",
    "    strides = (4, 2),\n",
    "    paddings = (0, 0),\n",
    "    latent_dim = 128,\n",
    "    first_decoder_padding = (0, 1),\n",
    "    key = rngs[0],\n",
    ")\n",
    "\n",
    "n_params = sum(x.size for x in jax.tree_util.tree_leaves(conv_model) if isinstance(x, jnp.ndarray))\n",
    "print(f\"Total parameters: {n_params:,}\")\n",
    "\n",
    "learning_rate = 1.0 / np.sqrt(np.prod(all_imgs.shape[1:]))\n",
    "optimizer = optax.rmsprop(learning_rate=learning_rate)\n",
    "opt_state = optimizer.init(eqx.filter(conv_model, eqx.is_inexact_array))\n",
    "\n",
    "\n",
    "### Prepare data ###\n",
    "\n",
    "batch_size = 1\n",
    "n_batches = (all_imgs.shape[0] - 1) // batch_size\n",
    "n_samples = n_batches * batch_size\n",
    "\n",
    "reshaped_imgs = all_imgs.transpose(0, 3, 1, 2)\n",
    "batched_inputs = reshaped_imgs[:n_samples].reshape(n_batches, batch_size, *reshaped_imgs.shape[1:])\n",
    "batched_targets = reshaped_imgs[1:n_samples+1].reshape(n_batches, batch_size, *reshaped_imgs.shape[1:])\n",
    "\n",
    "\n",
    "### Train ###\n",
    "\n",
    "new_conv_model, new_opt_state, stats = train_loop(\n",
    "    model = conv_model,\n",
    "    optimizer = optimizer,\n",
    "    opt_state = opt_state,\n",
    "    inputs = batched_inputs,\n",
    "    targets = batched_targets,\n",
    "    rng = rngs[1],\n",
    ")\n",
    "\n",
    "print(stats['loss'].mean())\n",
    "plt.plot(stats['loss'])\n",
    "plt.ylim(0, 1)\n"
   ]
  },
  {
   "cell_type": "code",
   "execution_count": null,
   "id": "7dd15b70",
   "metadata": {},
   "outputs": [
    {
     "name": "stdout",
     "output_type": "stream",
     "text": [
      "0.10060621\n"
     ]
    },
    {
     "data": {
      "text/plain": [
       "[<matplotlib.lines.Line2D at 0x72403374ea70>]"
      ]
     },
     "execution_count": 145,
     "metadata": {},
     "output_type": "execute_result"
    },
    {
     "data": {
      "image/png": "[encoded data removed]",
      "text/plain": [
       "<Figure size 640x480 with 1 Axes>"
      ]
     },
     "metadata": {},
     "output_type": "display_data"
    }
   ],
   "source": [
    "batch_size = 1\n",
    "n_batches = all_imgs.shape[0] // batch_size\n",
    "n_samples = n_batches * batch_size\n",
    "\n",
    "batched_inputs = all_imgs[:n_samples].reshape(n_batches, batch_size, -1)\n",
    "batched_targets = all_imgs[:n_samples].reshape(n_batches, batch_size, -1)\n",
    "\n",
    "new_model, new_opt_state, stats = train_loop(\n",
    "    model = model,\n",
    "    optimizer = optimizer,\n",
    "    opt_state = opt_state,\n",
    "    inputs = all_imgs,\n",
    "    targets = all_imgs,\n",
    "    batch_size = 1,\n",
    "    rng = rngs[1],\n",
    ")\n",
    "\n",
    "print(stats['loss'].mean())\n",
    "plt.plot(stats['loss'])"
   ]
  },
  {
   "cell_type": "code",
   "execution_count": null,
   "id": "9cb16e99",
   "metadata": {},
   "outputs": [],
   "source": []
  },
  {
   "cell_type": "code",
   "execution_count": null,
   "id": "56fda7aa",
   "metadata": {},
   "outputs": [],
   "source": []
  },
  {
   "cell_type": "code",
   "execution_count": null,
   "id": "33d85bb2",
   "metadata": {},
   "outputs": [],
   "source": []
  },
  {
   "cell_type": "code",
   "execution_count": null,
   "id": "c25838cc",
   "metadata": {},
   "outputs": [],
   "source": []
  },
  {
   "cell_type": "code",
   "execution_count": null,
   "id": "16ba05be",
   "metadata": {},
   "outputs": [],
   "source": []
  },
  {
   "cell_type": "code",
   "execution_count": null,
   "id": "d2552c83",
   "metadata": {},
   "outputs": [],
   "source": []
  },
  {
   "cell_type": "code",
   "execution_count": 131,
   "id": "6c60b749",
   "metadata": {},
   "outputs": [
    {
     "data": {
      "text/plain": [
       "Array(False, dtype=bool)"
      ]
     },
     "execution_count": 131,
     "metadata": {},
     "output_type": "execute_result"
    }
   ],
   "source": [
    "jax.tree.reduce(lambda x, y: x and y, jax.tree.map(lambda x, y: (x == y).all(), model, new_model))"
   ]
  }
 ],
 "metadata": {
  "kernelspec": {
   "display_name": "research",
   "language": "python",
   "name": "python3"
  },
  "language_info": {
   "codemirror_mode": {
    "name": "ipython",
    "version": 3
   },
   "file_extension": ".py",
   "mimetype": "text/x-python",
   "name": "python",
   "nbconvert_exporter": "python",
   "pygments_lexer": "ipython3",
   "version": "3.10.16"
  }
 },
 "nbformat": 4,
 "nbformat_minor": 5
}
