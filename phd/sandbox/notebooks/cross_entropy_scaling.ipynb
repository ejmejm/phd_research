{
 "cells": [
  {
   "cell_type": "code",
   "execution_count": 2,
   "metadata": {},
   "outputs": [],
   "source": [
    "import torch\n",
    "from torch.nn import functional as F"
   ]
  },
  {
   "cell_type": "code",
   "execution_count": 6,
   "metadata": {},
   "outputs": [
    {
     "name": "stdout",
     "output_type": "stream",
     "text": [
      "tensor([0., -0., -0., -0., -0., -0., -0., -0., -0., -0.])\n",
      "tensor(2.3026)\n",
      "tensor([ 1., -1., -1., -1., -1., -1., -1., -1., -1., -1.])\n",
      "tensor(0.7966)\n",
      "tensor([ 2., -2., -2., -2., -2., -2., -2., -2., -2., -2.])\n",
      "tensor(0.1526)\n",
      "tensor([ 3., -3., -3., -3., -3., -3., -3., -3., -3., -3.])\n",
      "tensor(0.0221)\n",
      "tensor([ 4., -4., -4., -4., -4., -4., -4., -4., -4., -4.])\n",
      "tensor(0.0030)\n",
      "tensor([ 5., -5., -5., -5., -5., -5., -5., -5., -5., -5.])\n",
      "tensor(0.0004)\n",
      "tensor([ 6., -6., -6., -6., -6., -6., -6., -6., -6., -6.])\n",
      "tensor(5.5431e-05)\n",
      "tensor([ 7., -7., -7., -7., -7., -7., -7., -7., -7., -7.])\n",
      "tensor(7.5102e-06)\n",
      "tensor([ 8., -8., -8., -8., -8., -8., -8., -8., -8., -8.])\n",
      "tensor(1.0729e-06)\n",
      "tensor([ 9., -9., -9., -9., -9., -9., -9., -9., -9., -9.])\n",
      "tensor(1.1921e-07)\n"
     ]
    }
   ],
   "source": [
    "for i in range(10):\n",
    "    input_tensor = torch.ones(10)\n",
    "    input_tensor *= i\n",
    "    input_tensor[1:] *= -1\n",
    "    print(input_tensor)\n",
    "    print(F.cross_entropy(input_tensor, torch.tensor(0)))"
   ]
  }
 ],
 "metadata": {
  "kernelspec": {
   "display_name": "research",
   "language": "python",
   "name": "python3"
  },
  "language_info": {
   "codemirror_mode": {
    "name": "ipython",
    "version": 3
   },
   "file_extension": ".py",
   "mimetype": "text/x-python",
   "name": "python",
   "nbconvert_exporter": "python",
   "pygments_lexer": "ipython3",
   "version": "3.10.16"
  }
 },
 "nbformat": 4,
 "nbformat_minor": 2
}
