{
 "cells": [
  {
   "cell_type": "code",
   "execution_count": 62,
   "id": "c73c36a2",
   "metadata": {},
   "outputs": [],
   "source": [
    "import timeit\n",
    "\n",
    "import numpy as np\n",
    "import torch"
   ]
  },
  {
   "cell_type": "code",
   "execution_count": null,
   "id": "98e9cddc",
   "metadata": {},
   "outputs": [
    {
     "name": "stdout",
     "output_type": "stream",
     "text": [
      "Single layer time: 0.00011067800200044076\n",
      "All layers time: 2.1284480039994376e-05\n",
      "All layers stream time: 5.6550740200009385e-05\n",
      "Speedup: 5.199939194778188\n",
      "All layers stream speedup: 1.9571450631590919\n"
     ]
    }
   ],
   "source": [
    "inp = torch.randn(1024).to('cuda')\n",
    "weights = [torch.randn(1024, 1024).to('cuda') for _ in range(50)]\n",
    "n_runs = 10\n",
    "n_repeat = 50\n",
    "\n",
    "\n",
    "### Single-layer version ###\n",
    "\n",
    "def single_layer_pass():\n",
    "    torch.cuda.empty_cache()\n",
    "    results = inp @ weights[0]\n",
    "    torch.cuda.synchronize()\n",
    "    return results\n",
    "\n",
    "# Warmup\n",
    "for _ in range(3):\n",
    "    results = inp @ weights[0]\n",
    "\n",
    "single_time = np.mean(timeit.repeat(single_layer_pass, number=n_runs, repeat=n_repeat)) / n_runs\n",
    "\n",
    "\n",
    "### Multi-layer version ###\n",
    "\n",
    "def all_layers_pass():\n",
    "    torch.cuda.empty_cache()\n",
    "    results = []\n",
    "    for w in enumerate(weights):\n",
    "        results.append(inp @ w)\n",
    "    torch.cuda.synchronize()\n",
    "    return results\n",
    "\n",
    "# Warmup\n",
    "for _ in range(3):\n",
    "    for w in weights:\n",
    "        results = inp @ w\n",
    "\n",
    "multi_time = np.mean(timeit.repeat(all_layers_pass, number=n_runs, repeat=n_repeat)) / n_runs / len(weights)\n",
    "\n",
    "\n",
    "### Multi-stream version ###\n",
    "\n",
    "def all_layers_stream_pass():\n",
    "    torch.cuda.empty_cache()\n",
    "    streams = [torch.cuda.Stream() for _ in range(len(weights))]\n",
    "    results = []\n",
    "    for w, stream in zip(weights, streams):\n",
    "        with torch.cuda.stream(stream):\n",
    "            results.append(inp @ w)\n",
    "    torch.cuda.synchronize()\n",
    "    return results\n",
    "\n",
    "# Warmup\n",
    "for _ in range(3):\n",
    "    for w in weights:\n",
    "        results = inp @ w\n",
    "\n",
    "multi_stream_time = np.mean(timeit.repeat(all_layers_stream_pass, number=n_runs, repeat=n_repeat)) / n_runs / len(weights)\n",
    "        \n",
    "\n",
    "print(f\"Single layer time: {single_time}\")\n",
    "print(f\"All layers time: {multi_time}\")\n",
    "print(f\"All layers stream time: {multi_stream_time}\")\n",
    "print(f\"Speedup: {single_time / multi_time}\")\n",
    "print(f\"All layers stream speedup: {single_time / multi_stream_time}\")\n"
   ]
  }
 ],
 "metadata": {
  "kernelspec": {
   "display_name": "jax",
   "language": "python",
   "name": "python3"
  },
  "language_info": {
   "codemirror_mode": {
    "name": "ipython",
    "version": 3
   },
   "file_extension": ".py",
   "mimetype": "text/x-python",
   "name": "python",
   "nbconvert_exporter": "python",
   "pygments_lexer": "ipython3",
   "version": "3.10.14"
  }
 },
 "nbformat": 4,
 "nbformat_minor": 5
}
